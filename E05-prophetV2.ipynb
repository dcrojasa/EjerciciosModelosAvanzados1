{
 "cells": [
  {
   "cell_type": "markdown",
   "metadata": {},
   "source": [
    "# Exercise 05\n",
    "\n",
    "\n",
    "## Using the example_retail_sales dataset:\n",
    "- Standarize the dataset using np.log\n",
    "- Using prophet forescast the next 6 months of the sales logarithm\n",
    "- Predict the next 6 months of sales"
   ]
  },
  {
   "cell_type": "code",
   "execution_count": 33,
   "metadata": {},
   "outputs": [],
   "source": [
    "import numpy as np\n",
    "import pandas as pd\n",
    "%matplotlib inline\n",
    "from fbprophet import Prophet\n",
    "from fbprophet.plot import add_changepoints_to_plot"
   ]
  },
  {
   "cell_type": "code",
   "execution_count": 34,
   "metadata": {},
   "outputs": [
    {
     "data": {
      "text/html": [
       "<div>\n",
       "<style scoped>\n",
       "    .dataframe tbody tr th:only-of-type {\n",
       "        vertical-align: middle;\n",
       "    }\n",
       "\n",
       "    .dataframe tbody tr th {\n",
       "        vertical-align: top;\n",
       "    }\n",
       "\n",
       "    .dataframe thead th {\n",
       "        text-align: right;\n",
       "    }\n",
       "</style>\n",
       "<table border=\"1\" class=\"dataframe\">\n",
       "  <thead>\n",
       "    <tr style=\"text-align: right;\">\n",
       "      <th></th>\n",
       "      <th>ds</th>\n",
       "      <th>y</th>\n",
       "    </tr>\n",
       "  </thead>\n",
       "  <tbody>\n",
       "    <tr>\n",
       "      <td>0</td>\n",
       "      <td>1992-01-01</td>\n",
       "      <td>146376</td>\n",
       "    </tr>\n",
       "    <tr>\n",
       "      <td>1</td>\n",
       "      <td>1992-02-01</td>\n",
       "      <td>147079</td>\n",
       "    </tr>\n",
       "    <tr>\n",
       "      <td>2</td>\n",
       "      <td>1992-03-01</td>\n",
       "      <td>159336</td>\n",
       "    </tr>\n",
       "    <tr>\n",
       "      <td>3</td>\n",
       "      <td>1992-04-01</td>\n",
       "      <td>163669</td>\n",
       "    </tr>\n",
       "    <tr>\n",
       "      <td>4</td>\n",
       "      <td>1992-05-01</td>\n",
       "      <td>170068</td>\n",
       "    </tr>\n",
       "  </tbody>\n",
       "</table>\n",
       "</div>"
      ],
      "text/plain": [
       "           ds       y\n",
       "0  1992-01-01  146376\n",
       "1  1992-02-01  147079\n",
       "2  1992-03-01  159336\n",
       "3  1992-04-01  163669\n",
       "4  1992-05-01  170068"
      ]
     },
     "execution_count": 34,
     "metadata": {},
     "output_type": "execute_result"
    }
   ],
   "source": [
    "retail = pd.read_csv('../EjerciciosModelosAvanzados1/example_retail_sales.csv')\n",
    "retail.head()"
   ]
  },
  {
   "cell_type": "code",
   "execution_count": 36,
   "metadata": {},
   "outputs": [
    {
     "data": {
      "text/html": [
       "<div>\n",
       "<style scoped>\n",
       "    .dataframe tbody tr th:only-of-type {\n",
       "        vertical-align: middle;\n",
       "    }\n",
       "\n",
       "    .dataframe tbody tr th {\n",
       "        vertical-align: top;\n",
       "    }\n",
       "\n",
       "    .dataframe thead th {\n",
       "        text-align: right;\n",
       "    }\n",
       "</style>\n",
       "<table border=\"1\" class=\"dataframe\">\n",
       "  <thead>\n",
       "    <tr style=\"text-align: right;\">\n",
       "      <th></th>\n",
       "      <th>ds</th>\n",
       "      <th>y</th>\n",
       "    </tr>\n",
       "  </thead>\n",
       "  <tbody>\n",
       "    <tr>\n",
       "      <td>0</td>\n",
       "      <td>1992-01-01</td>\n",
       "      <td>146376</td>\n",
       "    </tr>\n",
       "    <tr>\n",
       "      <td>1</td>\n",
       "      <td>1992-02-01</td>\n",
       "      <td>147079</td>\n",
       "    </tr>\n",
       "    <tr>\n",
       "      <td>2</td>\n",
       "      <td>1992-03-01</td>\n",
       "      <td>159336</td>\n",
       "    </tr>\n",
       "    <tr>\n",
       "      <td>3</td>\n",
       "      <td>1992-04-01</td>\n",
       "      <td>163669</td>\n",
       "    </tr>\n",
       "    <tr>\n",
       "      <td>4</td>\n",
       "      <td>1992-05-01</td>\n",
       "      <td>170068</td>\n",
       "    </tr>\n",
       "  </tbody>\n",
       "</table>\n",
       "</div>"
      ],
      "text/plain": [
       "          ds       y\n",
       "0 1992-01-01  146376\n",
       "1 1992-02-01  147079\n",
       "2 1992-03-01  159336\n",
       "3 1992-04-01  163669\n",
       "4 1992-05-01  170068"
      ]
     },
     "execution_count": 36,
     "metadata": {},
     "output_type": "execute_result"
    }
   ],
   "source": [
    "df = pd.DataFrame()\n",
    "df['ds'] = pd.to_datetime(retail['ds'])\n",
    "df['y'] = retail['y']\n",
    "df.head()"
   ]
  },
  {
   "cell_type": "code",
   "execution_count": 37,
   "metadata": {},
   "outputs": [
    {
     "data": {
      "image/png": "[encoded data removed]",
      "text/plain": [
       "<Figure size 432x288 with 1 Axes>"
      ]
     },
     "metadata": {
      "needs_background": "light"
     },
     "output_type": "display_data"
    }
   ],
   "source": [
    "df['y'].plot();"
   ]
  },
  {
   "cell_type": "code",
   "execution_count": 28,
   "metadata": {},
   "outputs": [
    {
     "data": {
      "text/html": [
       "<div>\n",
       "<style scoped>\n",
       "    .dataframe tbody tr th:only-of-type {\n",
       "        vertical-align: middle;\n",
       "    }\n",
       "\n",
       "    .dataframe tbody tr th {\n",
       "        vertical-align: top;\n",
       "    }\n",
       "\n",
       "    .dataframe thead th {\n",
       "        text-align: right;\n",
       "    }\n",
       "</style>\n",
       "<table border=\"1\" class=\"dataframe\">\n",
       "  <thead>\n",
       "    <tr style=\"text-align: right;\">\n",
       "      <th></th>\n",
       "      <th>y_log</th>\n",
       "    </tr>\n",
       "  </thead>\n",
       "  <tbody>\n",
       "    <tr>\n",
       "      <td>0</td>\n",
       "      <td>11.893934</td>\n",
       "    </tr>\n",
       "    <tr>\n",
       "      <td>1</td>\n",
       "      <td>11.898725</td>\n",
       "    </tr>\n",
       "    <tr>\n",
       "      <td>2</td>\n",
       "      <td>11.978770</td>\n",
       "    </tr>\n",
       "    <tr>\n",
       "      <td>3</td>\n",
       "      <td>12.005601</td>\n",
       "    </tr>\n",
       "    <tr>\n",
       "      <td>4</td>\n",
       "      <td>12.043954</td>\n",
       "    </tr>\n",
       "  </tbody>\n",
       "</table>\n",
       "</div>"
      ],
      "text/plain": [
       "       y_log\n",
       "0  11.893934\n",
       "1  11.898725\n",
       "2  11.978770\n",
       "3  12.005601\n",
       "4  12.043954"
      ]
     },
     "execution_count": 28,
     "metadata": {},
     "output_type": "execute_result"
    }
   ],
   "source": [
    "y_log = pd.DataFrame(np.log(df['y']))\n",
    "y_log = y_log.rename(columns={'y': 'y_log'})\n",
    "y_log.head()"
   ]
  },
  {
   "cell_type": "code",
   "execution_count": 29,
   "metadata": {},
   "outputs": [
    {
     "data": {
      "text/html": [
       "<div>\n",
       "<style scoped>\n",
       "    .dataframe tbody tr th:only-of-type {\n",
       "        vertical-align: middle;\n",
       "    }\n",
       "\n",
       "    .dataframe tbody tr th {\n",
       "        vertical-align: top;\n",
       "    }\n",
       "\n",
       "    .dataframe thead th {\n",
       "        text-align: right;\n",
       "    }\n",
       "</style>\n",
       "<table border=\"1\" class=\"dataframe\">\n",
       "  <thead>\n",
       "    <tr style=\"text-align: right;\">\n",
       "      <th></th>\n",
       "      <th>ds</th>\n",
       "      <th>y</th>\n",
       "      <th>y_log</th>\n",
       "    </tr>\n",
       "  </thead>\n",
       "  <tbody>\n",
       "    <tr>\n",
       "      <td>0</td>\n",
       "      <td>1992-01-01</td>\n",
       "      <td>146376</td>\n",
       "      <td>11.893934</td>\n",
       "    </tr>\n",
       "    <tr>\n",
       "      <td>1</td>\n",
       "      <td>1992-02-01</td>\n",
       "      <td>147079</td>\n",
       "      <td>11.898725</td>\n",
       "    </tr>\n",
       "    <tr>\n",
       "      <td>2</td>\n",
       "      <td>1992-03-01</td>\n",
       "      <td>159336</td>\n",
       "      <td>11.978770</td>\n",
       "    </tr>\n",
       "    <tr>\n",
       "      <td>3</td>\n",
       "      <td>1992-04-01</td>\n",
       "      <td>163669</td>\n",
       "      <td>12.005601</td>\n",
       "    </tr>\n",
       "    <tr>\n",
       "      <td>4</td>\n",
       "      <td>1992-05-01</td>\n",
       "      <td>170068</td>\n",
       "      <td>12.043954</td>\n",
       "    </tr>\n",
       "  </tbody>\n",
       "</table>\n",
       "</div>"
      ],
      "text/plain": [
       "          ds       y      y_log\n",
       "0 1992-01-01  146376  11.893934\n",
       "1 1992-02-01  147079  11.898725\n",
       "2 1992-03-01  159336  11.978770\n",
       "3 1992-04-01  163669  12.005601\n",
       "4 1992-05-01  170068  12.043954"
      ]
     },
     "execution_count": 29,
     "metadata": {},
     "output_type": "execute_result"
    }
   ],
   "source": [
    "df = pd.concat([df, y_log], axis=1)\n",
    "df.head()"
   ]
  },
  {
   "cell_type": "code",
   "execution_count": 30,
   "metadata": {},
   "outputs": [
    {
     "data": {
      "text/html": [
       "<div>\n",
       "<style scoped>\n",
       "    .dataframe tbody tr th:only-of-type {\n",
       "        vertical-align: middle;\n",
       "    }\n",
       "\n",
       "    .dataframe tbody tr th {\n",
       "        vertical-align: top;\n",
       "    }\n",
       "\n",
       "    .dataframe thead th {\n",
       "        text-align: right;\n",
       "    }\n",
       "</style>\n",
       "<table border=\"1\" class=\"dataframe\">\n",
       "  <thead>\n",
       "    <tr style=\"text-align: right;\">\n",
       "      <th></th>\n",
       "      <th>ds</th>\n",
       "      <th>y</th>\n",
       "    </tr>\n",
       "  </thead>\n",
       "  <tbody>\n",
       "    <tr>\n",
       "      <td>0</td>\n",
       "      <td>1992-01-01</td>\n",
       "      <td>11.893934</td>\n",
       "    </tr>\n",
       "    <tr>\n",
       "      <td>1</td>\n",
       "      <td>1992-02-01</td>\n",
       "      <td>11.898725</td>\n",
       "    </tr>\n",
       "    <tr>\n",
       "      <td>2</td>\n",
       "      <td>1992-03-01</td>\n",
       "      <td>11.978770</td>\n",
       "    </tr>\n",
       "    <tr>\n",
       "      <td>3</td>\n",
       "      <td>1992-04-01</td>\n",
       "      <td>12.005601</td>\n",
       "    </tr>\n",
       "    <tr>\n",
       "      <td>4</td>\n",
       "      <td>1992-05-01</td>\n",
       "      <td>12.043954</td>\n",
       "    </tr>\n",
       "  </tbody>\n",
       "</table>\n",
       "</div>"
      ],
      "text/plain": [
       "          ds          y\n",
       "0 1992-01-01  11.893934\n",
       "1 1992-02-01  11.898725\n",
       "2 1992-03-01  11.978770\n",
       "3 1992-04-01  12.005601\n",
       "4 1992-05-01  12.043954"
      ]
     },
     "execution_count": 30,
     "metadata": {},
     "output_type": "execute_result"
    }
   ],
   "source": [
    "# Borrando el Y y renombrando elYlog por y\n",
    "del df['y']\n",
    "df = df.rename(columns={'y_log': 'y'})\n",
    "df.head()"
   ]
  },
  {
   "cell_type": "code",
   "execution_count": 31,
   "metadata": {},
   "outputs": [
    {
     "data": {
      "text/html": [
       "<div>\n",
       "<style scoped>\n",
       "    .dataframe tbody tr th:only-of-type {\n",
       "        vertical-align: middle;\n",
       "    }\n",
       "\n",
       "    .dataframe tbody tr th {\n",
       "        vertical-align: top;\n",
       "    }\n",
       "\n",
       "    .dataframe thead th {\n",
       "        text-align: right;\n",
       "    }\n",
       "</style>\n",
       "<table border=\"1\" class=\"dataframe\">\n",
       "  <thead>\n",
       "    <tr style=\"text-align: right;\">\n",
       "      <th></th>\n",
       "      <th>ds</th>\n",
       "      <th>y</th>\n",
       "    </tr>\n",
       "  </thead>\n",
       "  <tbody>\n",
       "    <tr>\n",
       "      <td>288</td>\n",
       "      <td>2016-01-01</td>\n",
       "      <td>12.901537</td>\n",
       "    </tr>\n",
       "    <tr>\n",
       "      <td>289</td>\n",
       "      <td>2016-02-01</td>\n",
       "      <td>12.932543</td>\n",
       "    </tr>\n",
       "    <tr>\n",
       "      <td>290</td>\n",
       "      <td>2016-03-01</td>\n",
       "      <td>13.039184</td>\n",
       "    </tr>\n",
       "    <tr>\n",
       "      <td>291</td>\n",
       "      <td>2016-04-01</td>\n",
       "      <td>13.019078</td>\n",
       "    </tr>\n",
       "    <tr>\n",
       "      <td>292</td>\n",
       "      <td>2016-05-01</td>\n",
       "      <td>13.063507</td>\n",
       "    </tr>\n",
       "  </tbody>\n",
       "</table>\n",
       "</div>"
      ],
      "text/plain": [
       "            ds          y\n",
       "288 2016-01-01  12.901537\n",
       "289 2016-02-01  12.932543\n",
       "290 2016-03-01  13.039184\n",
       "291 2016-04-01  13.019078\n",
       "292 2016-05-01  13.063507"
      ]
     },
     "execution_count": 31,
     "metadata": {},
     "output_type": "execute_result"
    }
   ],
   "source": [
    "df.tail()"
   ]
  },
  {
   "cell_type": "code",
   "execution_count": 32,
   "metadata": {},
   "outputs": [
    {
     "data": {
      "image/png": "[encoded data removed]",
      "text/plain": [
       "<Figure size 432x288 with 1 Axes>"
      ]
     },
     "metadata": {
      "needs_background": "light"
     },
     "output_type": "display_data"
    }
   ],
   "source": [
    "#Grlaficando el y (ya transfromado por la función log)\n",
    "df['y'].plot();"
   ]
  },
  {
   "cell_type": "markdown",
   "metadata": {},
   "source": [
    "- Recuerden, toca hacer el rolling forecast del ultimo 10% de fechas con prophet"
   ]
  },
  {
   "cell_type": "code",
   "execution_count": 38,
   "metadata": {},
   "outputs": [
    {
     "data": {
      "text/html": [
       "<div>\n",
       "<style scoped>\n",
       "    .dataframe tbody tr th:only-of-type {\n",
       "        vertical-align: middle;\n",
       "    }\n",
       "\n",
       "    .dataframe tbody tr th {\n",
       "        vertical-align: top;\n",
       "    }\n",
       "\n",
       "    .dataframe thead th {\n",
       "        text-align: right;\n",
       "    }\n",
       "</style>\n",
       "<table border=\"1\" class=\"dataframe\">\n",
       "  <thead>\n",
       "    <tr style=\"text-align: right;\">\n",
       "      <th></th>\n",
       "      <th>ds</th>\n",
       "      <th>y</th>\n",
       "    </tr>\n",
       "  </thead>\n",
       "  <tbody>\n",
       "    <tr>\n",
       "      <td>258</td>\n",
       "      <td>2013-07-01</td>\n",
       "      <td>422357</td>\n",
       "    </tr>\n",
       "    <tr>\n",
       "      <td>259</td>\n",
       "      <td>2013-08-01</td>\n",
       "      <td>434950</td>\n",
       "    </tr>\n",
       "    <tr>\n",
       "      <td>260</td>\n",
       "      <td>2013-09-01</td>\n",
       "      <td>396199</td>\n",
       "    </tr>\n",
       "    <tr>\n",
       "      <td>261</td>\n",
       "      <td>2013-10-01</td>\n",
       "      <td>415740</td>\n",
       "    </tr>\n",
       "    <tr>\n",
       "      <td>262</td>\n",
       "      <td>2013-11-01</td>\n",
       "      <td>423611</td>\n",
       "    </tr>\n",
       "  </tbody>\n",
       "</table>\n",
       "</div>"
      ],
      "text/plain": [
       "            ds       y\n",
       "258 2013-07-01  422357\n",
       "259 2013-08-01  434950\n",
       "260 2013-09-01  396199\n",
       "261 2013-10-01  415740\n",
       "262 2013-11-01  423611"
      ]
     },
     "execution_count": 38,
     "metadata": {},
     "output_type": "execute_result"
    }
   ],
   "source": [
    "history_train = df.head(int(len(df)*(0.9)))\n",
    "history_train.tail()"
   ]
  },
  {
   "cell_type": "code",
   "execution_count": 39,
   "metadata": {},
   "outputs": [
    {
     "data": {
      "text/html": [
       "<div>\n",
       "<style scoped>\n",
       "    .dataframe tbody tr th:only-of-type {\n",
       "        vertical-align: middle;\n",
       "    }\n",
       "\n",
       "    .dataframe tbody tr th {\n",
       "        vertical-align: top;\n",
       "    }\n",
       "\n",
       "    .dataframe thead th {\n",
       "        text-align: right;\n",
       "    }\n",
       "</style>\n",
       "<table border=\"1\" class=\"dataframe\">\n",
       "  <thead>\n",
       "    <tr style=\"text-align: right;\">\n",
       "      <th></th>\n",
       "      <th>ds</th>\n",
       "      <th>y</th>\n",
       "    </tr>\n",
       "  </thead>\n",
       "  <tbody>\n",
       "    <tr>\n",
       "      <td>288</td>\n",
       "      <td>2016-01-01</td>\n",
       "      <td>400928</td>\n",
       "    </tr>\n",
       "    <tr>\n",
       "      <td>289</td>\n",
       "      <td>2016-02-01</td>\n",
       "      <td>413554</td>\n",
       "    </tr>\n",
       "    <tr>\n",
       "      <td>290</td>\n",
       "      <td>2016-03-01</td>\n",
       "      <td>460093</td>\n",
       "    </tr>\n",
       "    <tr>\n",
       "      <td>291</td>\n",
       "      <td>2016-04-01</td>\n",
       "      <td>450935</td>\n",
       "    </tr>\n",
       "    <tr>\n",
       "      <td>292</td>\n",
       "      <td>2016-05-01</td>\n",
       "      <td>471421</td>\n",
       "    </tr>\n",
       "  </tbody>\n",
       "</table>\n",
       "</div>"
      ],
      "text/plain": [
       "            ds       y\n",
       "288 2016-01-01  400928\n",
       "289 2016-02-01  413554\n",
       "290 2016-03-01  460093\n",
       "291 2016-04-01  450935\n",
       "292 2016-05-01  471421"
      ]
     },
     "execution_count": 39,
     "metadata": {},
     "output_type": "execute_result"
    }
   ],
   "source": [
    "test = df.tail(int(len(df)*(0.1)))\n",
    "test.tail()"
   ]
  },
  {
   "cell_type": "code",
   "execution_count": 9,
   "metadata": {},
   "outputs": [
    {
     "name": "stderr",
     "output_type": "stream",
     "text": [
      "INFO:fbprophet:Disabling weekly seasonality. Run prophet with weekly_seasonality=True to override this.\n",
      "INFO:fbprophet:Disabling daily seasonality. Run prophet with daily_seasonality=True to override this.\n",
      "INFO:fbprophet:Disabling weekly seasonality. Run prophet with weekly_seasonality=True to override this.\n",
      "INFO:fbprophet:Disabling daily seasonality. Run prophet with daily_seasonality=True to override this.\n"
     ]
    },
    {
     "name": "stdout",
     "output_type": "stream",
     "text": [
      "predicted=            ds       yhat\n",
      "0 2014-01-01  12.874869\n"
     ]
    },
    {
     "name": "stderr",
     "output_type": "stream",
     "text": [
      "INFO:fbprophet:Disabling weekly seasonality. Run prophet with weekly_seasonality=True to override this.\n",
      "INFO:fbprophet:Disabling daily seasonality. Run prophet with daily_seasonality=True to override this.\n"
     ]
    },
    {
     "name": "stdout",
     "output_type": "stream",
     "text": [
      "predicted=            ds       yhat\n",
      "0 2014-01-01  12.874272\n",
      "1 2014-02-01  12.868591\n"
     ]
    },
    {
     "name": "stderr",
     "output_type": "stream",
     "text": [
      "INFO:fbprophet:Disabling weekly seasonality. Run prophet with weekly_seasonality=True to override this.\n",
      "INFO:fbprophet:Disabling daily seasonality. Run prophet with daily_seasonality=True to override this.\n"
     ]
    },
    {
     "name": "stdout",
     "output_type": "stream",
     "text": [
      "predicted=            ds       yhat\n",
      "0 2014-01-01  12.873945\n",
      "1 2014-02-01  12.867961\n",
      "2 2014-03-01  12.994804\n"
     ]
    },
    {
     "name": "stderr",
     "output_type": "stream",
     "text": [
      "INFO:fbprophet:Disabling weekly seasonality. Run prophet with weekly_seasonality=True to override this.\n",
      "INFO:fbprophet:Disabling daily seasonality. Run prophet with daily_seasonality=True to override this.\n"
     ]
    },
    {
     "name": "stdout",
     "output_type": "stream",
     "text": [
      "predicted=            ds       yhat\n",
      "0 2014-01-01  12.873497\n",
      "1 2014-02-01  12.868300\n",
      "2 2014-03-01  12.994733\n",
      "3 2014-04-01  12.982410\n"
     ]
    },
    {
     "name": "stderr",
     "output_type": "stream",
     "text": [
      "INFO:fbprophet:Disabling weekly seasonality. Run prophet with weekly_seasonality=True to override this.\n",
      "INFO:fbprophet:Disabling daily seasonality. Run prophet with daily_seasonality=True to override this.\n"
     ]
    },
    {
     "name": "stdout",
     "output_type": "stream",
     "text": [
      "predicted=            ds       yhat\n",
      "0 2014-01-01  12.872158\n",
      "1 2014-02-01  12.866454\n",
      "2 2014-03-01  12.993930\n",
      "3 2014-04-01  12.982387\n",
      "4 2014-05-01  13.036534\n"
     ]
    },
    {
     "name": "stderr",
     "output_type": "stream",
     "text": [
      "INFO:fbprophet:Disabling weekly seasonality. Run prophet with weekly_seasonality=True to override this.\n",
      "INFO:fbprophet:Disabling daily seasonality. Run prophet with daily_seasonality=True to override this.\n"
     ]
    },
    {
     "name": "stdout",
     "output_type": "stream",
     "text": [
      "predicted=            ds       yhat\n",
      "0 2014-01-01  12.871744\n",
      "1 2014-02-01  12.865564\n",
      "2 2014-03-01  12.992241\n",
      "3 2014-04-01  12.979989\n",
      "4 2014-05-01  13.033514\n",
      "5 2014-06-01  13.017509\n"
     ]
    },
    {
     "name": "stderr",
     "output_type": "stream",
     "text": [
      "INFO:fbprophet:Disabling weekly seasonality. Run prophet with weekly_seasonality=True to override this.\n",
      "INFO:fbprophet:Disabling daily seasonality. Run prophet with daily_seasonality=True to override this.\n"
     ]
    },
    {
     "name": "stdout",
     "output_type": "stream",
     "text": [
      "predicted=            ds       yhat\n",
      "0 2014-01-01  12.870629\n",
      "1 2014-02-01  12.864673\n",
      "2 2014-03-01  12.991506\n",
      "3 2014-04-01  12.979473\n",
      "4 2014-05-01  13.033195\n",
      "5 2014-06-01  13.016616\n",
      "6 2014-07-01  13.014677\n"
     ]
    },
    {
     "name": "stderr",
     "output_type": "stream",
     "text": [
      "INFO:fbprophet:Disabling weekly seasonality. Run prophet with weekly_seasonality=True to override this.\n",
      "INFO:fbprophet:Disabling daily seasonality. Run prophet with daily_seasonality=True to override this.\n"
     ]
    },
    {
     "name": "stdout",
     "output_type": "stream",
     "text": [
      "predicted=            ds       yhat\n",
      "0 2014-01-01  12.870603\n",
      "1 2014-02-01  12.864106\n",
      "2 2014-03-01  12.990398\n",
      "3 2014-04-01  12.977624\n",
      "4 2014-05-01  13.030717\n",
      "5 2014-06-01  13.014264\n",
      "6 2014-07-01  13.012569\n",
      "7 2014-08-01  13.038437\n"
     ]
    },
    {
     "name": "stderr",
     "output_type": "stream",
     "text": [
      "INFO:fbprophet:Disabling weekly seasonality. Run prophet with weekly_seasonality=True to override this.\n",
      "INFO:fbprophet:Disabling daily seasonality. Run prophet with daily_seasonality=True to override this.\n"
     ]
    },
    {
     "name": "stdout",
     "output_type": "stream",
     "text": [
      "predicted=            ds       yhat\n",
      "0 2014-01-01  12.869775\n",
      "1 2014-02-01  12.863689\n",
      "2 2014-03-01  12.990445\n",
      "3 2014-04-01  12.978064\n",
      "4 2014-05-01  13.031422\n",
      "5 2014-06-01  13.014907\n",
      "6 2014-07-01  13.012669\n",
      "7 2014-08-01  13.037776\n",
      "8 2014-09-01  12.970212\n"
     ]
    },
    {
     "name": "stderr",
     "output_type": "stream",
     "text": [
      "INFO:fbprophet:Disabling weekly seasonality. Run prophet with weekly_seasonality=True to override this.\n",
      "INFO:fbprophet:Disabling daily seasonality. Run prophet with daily_seasonality=True to override this.\n"
     ]
    },
    {
     "name": "stdout",
     "output_type": "stream",
     "text": [
      "predicted=            ds       yhat\n",
      "0 2014-01-01  12.870314\n",
      "1 2014-02-01  12.864462\n",
      "2 2014-03-01  12.990899\n",
      "3 2014-04-01  12.978054\n",
      "4 2014-05-01  13.030916\n",
      "5 2014-06-01  13.014298\n",
      "6 2014-07-01  13.012394\n",
      "7 2014-08-01  13.037967\n",
      "8 2014-09-01  12.971044\n",
      "9 2014-10-01  13.001576\n"
     ]
    },
    {
     "name": "stderr",
     "output_type": "stream",
     "text": [
      "INFO:fbprophet:Disabling weekly seasonality. Run prophet with weekly_seasonality=True to override this.\n",
      "INFO:fbprophet:Disabling daily seasonality. Run prophet with daily_seasonality=True to override this.\n"
     ]
    },
    {
     "name": "stdout",
     "output_type": "stream",
     "text": [
      "predicted=             ds       yhat\n",
      "0  2014-01-01  12.869871\n",
      "1  2014-02-01  12.863719\n",
      "2  2014-03-01  12.990527\n",
      "3  2014-04-01  12.978076\n",
      "4  2014-05-01  13.031380\n",
      "5  2014-06-01  13.015085\n",
      "6  2014-07-01  13.013665\n",
      "7  2014-08-01  13.039817\n",
      "8  2014-09-01  12.973533\n",
      "9  2014-10-01  13.004613\n",
      "10 2014-11-01  13.018326\n"
     ]
    },
    {
     "name": "stderr",
     "output_type": "stream",
     "text": [
      "INFO:fbprophet:Disabling weekly seasonality. Run prophet with weekly_seasonality=True to override this.\n",
      "INFO:fbprophet:Disabling daily seasonality. Run prophet with daily_seasonality=True to override this.\n"
     ]
    },
    {
     "name": "stdout",
     "output_type": "stream",
     "text": [
      "predicted=             ds       yhat\n",
      "0  2014-01-01  12.869288\n",
      "1  2014-02-01  12.863406\n",
      "2  2014-03-01  12.990312\n",
      "3  2014-04-01  12.978242\n",
      "4  2014-05-01  13.031984\n",
      "5  2014-06-01  13.015965\n",
      "6  2014-07-01  13.014577\n",
      "7  2014-08-01  13.040131\n",
      "8  2014-09-01  12.973206\n",
      "9  2014-10-01  13.003612\n",
      "10 2014-11-01  13.017672\n",
      "11 2014-12-01  13.176248\n"
     ]
    },
    {
     "name": "stderr",
     "output_type": "stream",
     "text": [
      "INFO:fbprophet:Disabling weekly seasonality. Run prophet with weekly_seasonality=True to override this.\n",
      "INFO:fbprophet:Disabling daily seasonality. Run prophet with daily_seasonality=True to override this.\n"
     ]
    },
    {
     "name": "stdout",
     "output_type": "stream",
     "text": [
      "predicted=             ds       yhat\n",
      "0  2014-01-01  12.869459\n",
      "1  2014-02-01  12.863925\n",
      "2  2014-03-01  12.990755\n",
      "3  2014-04-01  12.978205\n",
      "4  2014-05-01  13.031584\n",
      "5  2014-06-01  13.015308\n",
      "6  2014-07-01  13.013891\n",
      "7  2014-08-01  13.040060\n",
      "8  2014-09-01  12.973797\n",
      "9  2014-10-01  13.004917\n",
      "10 2014-11-01  13.019185\n",
      "11 2014-12-01  13.177547\n",
      "12 2015-01-01  12.920642\n"
     ]
    },
    {
     "name": "stderr",
     "output_type": "stream",
     "text": [
      "INFO:fbprophet:Disabling weekly seasonality. Run prophet with weekly_seasonality=True to override this.\n",
      "INFO:fbprophet:Disabling daily seasonality. Run prophet with daily_seasonality=True to override this.\n"
     ]
    },
    {
     "name": "stdout",
     "output_type": "stream",
     "text": [
      "predicted=             ds       yhat\n",
      "0  2014-01-01  12.869386\n",
      "1  2014-02-01  12.863558\n",
      "2  2014-03-01  12.990682\n",
      "3  2014-04-01  12.978414\n",
      "4  2014-05-01  13.031843\n",
      "5  2014-06-01  13.015641\n",
      "6  2014-07-01  13.014180\n",
      "7  2014-08-01  13.040346\n",
      "8  2014-09-01  12.973815\n",
      "9  2014-10-01  13.004649\n",
      "10 2014-11-01  13.018691\n",
      "11 2014-12-01  13.176738\n",
      "12 2015-01-01  12.919429\n",
      "13 2015-02-01  12.924370\n"
     ]
    },
    {
     "name": "stderr",
     "output_type": "stream",
     "text": [
      "INFO:fbprophet:Disabling weekly seasonality. Run prophet with weekly_seasonality=True to override this.\n",
      "INFO:fbprophet:Disabling daily seasonality. Run prophet with daily_seasonality=True to override this.\n"
     ]
    },
    {
     "name": "stdout",
     "output_type": "stream",
     "text": [
      "predicted=             ds       yhat\n",
      "0  2014-01-01  12.869418\n",
      "1  2014-02-01  12.863575\n",
      "2  2014-03-01  12.990489\n",
      "3  2014-04-01  12.978451\n",
      "4  2014-05-01  13.032093\n",
      "5  2014-06-01  13.015998\n",
      "6  2014-07-01  13.014480\n",
      "7  2014-08-01  13.040417\n",
      "8  2014-09-01  12.973443\n",
      "9  2014-10-01  13.004296\n",
      "10 2014-11-01  13.018182\n",
      "11 2014-12-01  13.176456\n",
      "12 2015-01-01  12.919827\n",
      "13 2015-02-01  12.924765\n",
      "14 2015-03-01  13.039866\n"
     ]
    },
    {
     "name": "stderr",
     "output_type": "stream",
     "text": [
      "INFO:fbprophet:Disabling weekly seasonality. Run prophet with weekly_seasonality=True to override this.\n",
      "INFO:fbprophet:Disabling daily seasonality. Run prophet with daily_seasonality=True to override this.\n"
     ]
    },
    {
     "name": "stdout",
     "output_type": "stream",
     "text": [
      "predicted=             ds       yhat\n",
      "0  2014-01-01  12.869564\n",
      "1  2014-02-01  12.863953\n",
      "2  2014-03-01  12.990699\n",
      "3  2014-04-01  12.978535\n",
      "4  2014-05-01  13.031848\n",
      "5  2014-06-01  13.015564\n",
      "6  2014-07-01  13.014040\n",
      "7  2014-08-01  13.040052\n",
      "8  2014-09-01  12.973537\n",
      "9  2014-10-01  13.004449\n",
      "10 2014-11-01  13.018453\n",
      "11 2014-12-01  13.176648\n",
      "12 2015-01-01  12.919551\n",
      "13 2015-02-01  12.923832\n",
      "14 2015-03-01  13.041742\n",
      "15 2015-04-01  13.030039\n"
     ]
    },
    {
     "name": "stderr",
     "output_type": "stream",
     "text": [
      "INFO:fbprophet:Disabling weekly seasonality. Run prophet with weekly_seasonality=True to override this.\n",
      "INFO:fbprophet:Disabling daily seasonality. Run prophet with daily_seasonality=True to override this.\n"
     ]
    },
    {
     "name": "stdout",
     "output_type": "stream",
     "text": [
      "predicted=             ds       yhat\n",
      "0  2014-01-01  12.869768\n",
      "1  2014-02-01  12.863633\n",
      "2  2014-03-01  12.990621\n",
      "3  2014-04-01  12.978366\n",
      "4  2014-05-01  13.031786\n",
      "5  2014-06-01  13.015512\n",
      "6  2014-07-01  13.014018\n",
      "7  2014-08-01  13.040062\n",
      "8  2014-09-01  12.973506\n",
      "9  2014-10-01  13.004305\n",
      "10 2014-11-01  13.018260\n",
      "11 2014-12-01  13.176337\n",
      "12 2015-01-01  12.919812\n",
      "13 2015-02-01  12.924767\n",
      "14 2015-03-01  13.041547\n",
      "15 2015-04-01  13.029782\n",
      "16 2015-05-01  13.082278\n"
     ]
    },
    {
     "name": "stderr",
     "output_type": "stream",
     "text": [
      "INFO:fbprophet:Disabling weekly seasonality. Run prophet with weekly_seasonality=True to override this.\n",
      "INFO:fbprophet:Disabling daily seasonality. Run prophet with daily_seasonality=True to override this.\n"
     ]
    },
    {
     "name": "stdout",
     "output_type": "stream",
     "text": [
      "predicted=             ds       yhat\n",
      "0  2014-01-01  12.869722\n",
      "1  2014-02-01  12.863588\n",
      "2  2014-03-01  12.990436\n",
      "3  2014-04-01  12.978252\n",
      "4  2014-05-01  13.031725\n",
      "5  2014-06-01  13.015546\n",
      "6  2014-07-01  13.014272\n",
      "7  2014-08-01  13.040398\n",
      "8  2014-09-01  12.973829\n",
      "9  2014-10-01  13.004341\n",
      "10 2014-11-01  13.018273\n",
      "11 2014-12-01  13.176696\n",
      "12 2015-01-01  12.919937\n",
      "13 2015-02-01  12.924881\n",
      "14 2015-03-01  13.039935\n",
      "15 2015-04-01  13.028961\n",
      "16 2015-05-01  13.081963\n",
      "17 2015-06-01  13.070977\n"
     ]
    },
    {
     "name": "stderr",
     "output_type": "stream",
     "text": [
      "INFO:fbprophet:Disabling weekly seasonality. Run prophet with weekly_seasonality=True to override this.\n",
      "INFO:fbprophet:Disabling daily seasonality. Run prophet with daily_seasonality=True to override this.\n"
     ]
    },
    {
     "name": "stdout",
     "output_type": "stream",
     "text": [
      "predicted=             ds       yhat\n",
      "0  2014-01-01  12.869666\n",
      "1  2014-02-01  12.863834\n",
      "2  2014-03-01  12.990465\n",
      "3  2014-04-01  12.978456\n",
      "4  2014-05-01  13.032077\n",
      "5  2014-06-01  13.015823\n",
      "6  2014-07-01  13.014238\n",
      "7  2014-08-01  13.040078\n",
      "8  2014-09-01  12.973496\n",
      "9  2014-10-01  13.004325\n",
      "10 2014-11-01  13.018246\n",
      "11 2014-12-01  13.176405\n",
      "12 2015-01-01  12.918975\n",
      "13 2015-02-01  12.923198\n",
      "14 2015-03-01  13.041637\n",
      "15 2015-04-01  13.029711\n",
      "16 2015-05-01  13.082026\n",
      "17 2015-06-01  13.070738\n",
      "18 2015-07-01  13.066986\n"
     ]
    },
    {
     "name": "stderr",
     "output_type": "stream",
     "text": [
      "INFO:fbprophet:Disabling weekly seasonality. Run prophet with weekly_seasonality=True to override this.\n",
      "INFO:fbprophet:Disabling daily seasonality. Run prophet with daily_seasonality=True to override this.\n"
     ]
    },
    {
     "name": "stdout",
     "output_type": "stream",
     "text": [
      "predicted=             ds       yhat\n",
      "0  2014-01-01  12.869507\n",
      "1  2014-02-01  12.863782\n",
      "2  2014-03-01  12.990820\n",
      "3  2014-04-01  12.978451\n",
      "4  2014-05-01  13.031868\n",
      "5  2014-06-01  13.015627\n",
      "6  2014-07-01  13.014132\n",
      "7  2014-08-01  13.040005\n",
      "8  2014-09-01  12.973267\n",
      "9  2014-10-01  13.004361\n",
      "10 2014-11-01  13.018647\n",
      "11 2014-12-01  13.177075\n",
      "12 2015-01-01  12.920399\n",
      "13 2015-02-01  12.925219\n",
      "14 2015-03-01  13.039955\n",
      "15 2015-04-01  13.028744\n",
      "16 2015-05-01  13.081842\n",
      "17 2015-06-01  13.070994\n",
      "18 2015-07-01  13.067239\n",
      "19 2015-08-01  13.094987\n"
     ]
    },
    {
     "name": "stderr",
     "output_type": "stream",
     "text": [
      "INFO:fbprophet:Disabling weekly seasonality. Run prophet with weekly_seasonality=True to override this.\n",
      "INFO:fbprophet:Disabling daily seasonality. Run prophet with daily_seasonality=True to override this.\n"
     ]
    },
    {
     "name": "stdout",
     "output_type": "stream",
     "text": [
      "predicted=             ds       yhat\n",
      "0  2014-01-01  12.869469\n",
      "1  2014-02-01  12.863679\n",
      "2  2014-03-01  12.990544\n",
      "3  2014-04-01  12.978501\n",
      "4  2014-05-01  13.032035\n",
      "5  2014-06-01  13.015909\n",
      "6  2014-07-01  13.014431\n",
      "7  2014-08-01  13.040522\n",
      "8  2014-09-01  12.973738\n",
      "9  2014-10-01  13.004380\n",
      "10 2014-11-01  13.018212\n",
      "11 2014-12-01  13.176433\n",
      "12 2015-01-01  12.919559\n",
      "13 2015-02-01  12.924176\n",
      "14 2015-03-01  13.040115\n",
      "15 2015-04-01  13.029324\n",
      "16 2015-05-01  13.082455\n",
      "17 2015-06-01  13.071224\n",
      "18 2015-07-01  13.067284\n",
      "19 2015-08-01  13.095331\n",
      "20 2015-09-01  13.027682\n"
     ]
    },
    {
     "name": "stderr",
     "output_type": "stream",
     "text": [
      "INFO:fbprophet:Disabling weekly seasonality. Run prophet with weekly_seasonality=True to override this.\n",
      "INFO:fbprophet:Disabling daily seasonality. Run prophet with daily_seasonality=True to override this.\n"
     ]
    },
    {
     "name": "stdout",
     "output_type": "stream",
     "text": [
      "predicted=             ds       yhat\n",
      "0  2014-01-01  12.869770\n",
      "1  2014-02-01  12.863835\n",
      "2  2014-03-01  12.990759\n",
      "3  2014-04-01  12.978563\n",
      "4  2014-05-01  13.032059\n",
      "5  2014-06-01  13.015900\n",
      "6  2014-07-01  13.014320\n",
      "7  2014-08-01  13.040085\n",
      "8  2014-09-01  12.973139\n",
      "9  2014-10-01  13.003695\n",
      "10 2014-11-01  13.017916\n",
      "11 2014-12-01  13.176297\n",
      "12 2015-01-01  12.919639\n",
      "13 2015-02-01  12.924789\n",
      "14 2015-03-01  13.040609\n",
      "15 2015-04-01  13.029230\n",
      "16 2015-05-01  13.082130\n",
      "17 2015-06-01  13.071217\n",
      "18 2015-07-01  13.067514\n",
      "19 2015-08-01  13.095337\n",
      "20 2015-09-01  13.027323\n",
      "21 2015-10-01  13.052789\n"
     ]
    },
    {
     "name": "stderr",
     "output_type": "stream",
     "text": [
      "INFO:fbprophet:Disabling weekly seasonality. Run prophet with weekly_seasonality=True to override this.\n",
      "INFO:fbprophet:Disabling daily seasonality. Run prophet with daily_seasonality=True to override this.\n"
     ]
    },
    {
     "name": "stdout",
     "output_type": "stream",
     "text": [
      "predicted=             ds       yhat\n",
      "0  2014-01-01  12.869904\n",
      "1  2014-02-01  12.863685\n",
      "2  2014-03-01  12.990415\n",
      "3  2014-04-01  12.978201\n",
      "4  2014-05-01  13.031717\n",
      "5  2014-06-01  13.015574\n",
      "6  2014-07-01  13.014156\n",
      "7  2014-08-01  13.040194\n",
      "8  2014-09-01  12.973632\n",
      "9  2014-10-01  13.004532\n",
      "10 2014-11-01  13.018797\n",
      "11 2014-12-01  13.176981\n",
      "12 2015-01-01  12.919763\n",
      "13 2015-02-01  12.924356\n",
      "14 2015-03-01  13.039383\n",
      "15 2015-04-01  13.028639\n",
      "16 2015-05-01  13.081725\n",
      "17 2015-06-01  13.070868\n",
      "18 2015-07-01  13.067117\n",
      "19 2015-08-01  13.095151\n",
      "20 2015-09-01  13.027478\n",
      "21 2015-10-01  13.053368\n",
      "22 2015-11-01  13.072075\n"
     ]
    },
    {
     "name": "stderr",
     "output_type": "stream",
     "text": [
      "INFO:fbprophet:Disabling weekly seasonality. Run prophet with weekly_seasonality=True to override this.\n",
      "INFO:fbprophet:Disabling daily seasonality. Run prophet with daily_seasonality=True to override this.\n"
     ]
    },
    {
     "name": "stdout",
     "output_type": "stream",
     "text": [
      "predicted=             ds       yhat\n",
      "0  2014-01-01  12.869259\n",
      "1  2014-02-01  12.863676\n",
      "2  2014-03-01  12.990947\n",
      "3  2014-04-01  12.978761\n",
      "4  2014-05-01  13.032185\n",
      "5  2014-06-01  13.015965\n",
      "6  2014-07-01  13.014403\n",
      "7  2014-08-01  13.040147\n",
      "8  2014-09-01  12.973360\n",
      "9  2014-10-01  13.003895\n",
      "10 2014-11-01  13.018061\n",
      "11 2014-12-01  13.176483\n",
      "12 2015-01-01  12.920021\n",
      "13 2015-02-01  12.924822\n",
      "14 2015-03-01  13.040585\n",
      "15 2015-04-01  13.029251\n",
      "16 2015-05-01  13.082107\n",
      "17 2015-06-01  13.071070\n",
      "18 2015-07-01  13.067350\n",
      "19 2015-08-01  13.095223\n",
      "20 2015-09-01  13.027290\n",
      "21 2015-10-01  13.052671\n",
      "22 2015-11-01  13.071460\n",
      "23 2015-12-01  13.228822\n"
     ]
    },
    {
     "name": "stderr",
     "output_type": "stream",
     "text": [
      "INFO:fbprophet:Disabling weekly seasonality. Run prophet with weekly_seasonality=True to override this.\n",
      "INFO:fbprophet:Disabling daily seasonality. Run prophet with daily_seasonality=True to override this.\n"
     ]
    },
    {
     "name": "stdout",
     "output_type": "stream",
     "text": [
      "predicted=             ds       yhat\n",
      "0  2014-01-01  12.869875\n",
      "1  2014-02-01  12.863622\n",
      "2  2014-03-01  12.990722\n",
      "3  2014-04-01  12.978484\n",
      "4  2014-05-01  13.031911\n",
      "5  2014-06-01  13.015657\n",
      "6  2014-07-01  13.014150\n",
      "7  2014-08-01  13.040122\n",
      "8  2014-09-01  12.973484\n",
      "9  2014-10-01  13.004256\n",
      "10 2014-11-01  13.018374\n",
      "11 2014-12-01  13.176823\n",
      "12 2015-01-01  12.920022\n",
      "13 2015-02-01  12.925113\n",
      "14 2015-03-01  13.039399\n",
      "15 2015-04-01  13.028735\n",
      "16 2015-05-01  13.081928\n",
      "17 2015-06-01  13.070977\n",
      "18 2015-07-01  13.067344\n",
      "19 2015-08-01  13.095219\n",
      "20 2015-09-01  13.027320\n",
      "21 2015-10-01  13.052960\n",
      "22 2015-11-01  13.071505\n",
      "23 2015-12-01  13.228910\n",
      "24 2016-01-01  12.970358\n"
     ]
    },
    {
     "name": "stderr",
     "output_type": "stream",
     "text": [
      "INFO:fbprophet:Disabling weekly seasonality. Run prophet with weekly_seasonality=True to override this.\n",
      "INFO:fbprophet:Disabling daily seasonality. Run prophet with daily_seasonality=True to override this.\n"
     ]
    },
    {
     "name": "stdout",
     "output_type": "stream",
     "text": [
      "predicted=             ds       yhat\n",
      "0  2014-01-01  12.869479\n",
      "1  2014-02-01  12.863483\n",
      "2  2014-03-01  12.990623\n",
      "3  2014-04-01  12.978427\n",
      "4  2014-05-01  13.031837\n",
      "5  2014-06-01  13.015581\n",
      "6  2014-07-01  13.013993\n",
      "7  2014-08-01  13.039791\n",
      "8  2014-09-01  12.972957\n",
      "9  2014-10-01  13.003829\n",
      "10 2014-11-01  13.017992\n",
      "11 2014-12-01  13.176569\n",
      "12 2015-01-01  12.920053\n",
      "13 2015-02-01  12.925173\n",
      "14 2015-03-01  13.040445\n",
      "15 2015-04-01  13.029362\n",
      "16 2015-05-01  13.082323\n",
      "17 2015-06-01  13.071264\n",
      "18 2015-07-01  13.067405\n",
      "19 2015-08-01  13.095094\n",
      "20 2015-09-01  13.027076\n",
      "21 2015-10-01  13.053002\n",
      "22 2015-11-01  13.071591\n",
      "23 2015-12-01  13.229069\n",
      "24 2016-01-01  12.970347\n",
      "25 2016-02-01  12.986524\n"
     ]
    },
    {
     "name": "stderr",
     "output_type": "stream",
     "text": [
      "INFO:fbprophet:Disabling weekly seasonality. Run prophet with weekly_seasonality=True to override this.\n",
      "INFO:fbprophet:Disabling daily seasonality. Run prophet with daily_seasonality=True to override this.\n"
     ]
    },
    {
     "name": "stdout",
     "output_type": "stream",
     "text": [
      "predicted=             ds       yhat\n",
      "0  2014-01-01  12.869644\n",
      "1  2014-02-01  12.863805\n",
      "2  2014-03-01  12.990603\n",
      "3  2014-04-01  12.978434\n",
      "4  2014-05-01  13.031888\n",
      "5  2014-06-01  13.015747\n",
      "6  2014-07-01  13.014204\n",
      "7  2014-08-01  13.040009\n",
      "8  2014-09-01  12.973325\n",
      "9  2014-10-01  13.004188\n",
      "10 2014-11-01  13.018382\n",
      "11 2014-12-01  13.176815\n",
      "12 2015-01-01  12.920132\n",
      "13 2015-02-01  12.924659\n",
      "14 2015-03-01  13.040274\n",
      "15 2015-04-01  13.029145\n",
      "16 2015-05-01  13.082103\n",
      "17 2015-06-01  13.071015\n",
      "18 2015-07-01  13.067154\n",
      "19 2015-08-01  13.094986\n",
      "20 2015-09-01  13.027289\n",
      "21 2015-10-01  13.053267\n",
      "22 2015-11-01  13.071978\n",
      "23 2015-12-01  13.229241\n",
      "24 2016-01-01  12.970135\n",
      "25 2016-02-01  12.985254\n",
      "26 2016-03-01  13.102494\n"
     ]
    },
    {
     "name": "stderr",
     "output_type": "stream",
     "text": [
      "INFO:fbprophet:Disabling weekly seasonality. Run prophet with weekly_seasonality=True to override this.\n",
      "INFO:fbprophet:Disabling daily seasonality. Run prophet with daily_seasonality=True to override this.\n"
     ]
    },
    {
     "name": "stdout",
     "output_type": "stream",
     "text": [
      "predicted=             ds       yhat\n",
      "0  2014-01-01  12.869710\n",
      "1  2014-02-01  12.863306\n",
      "2  2014-03-01  12.990557\n",
      "3  2014-04-01  12.978310\n",
      "4  2014-05-01  13.031657\n",
      "5  2014-06-01  13.015479\n",
      "6  2014-07-01  13.014005\n",
      "7  2014-08-01  13.040017\n",
      "8  2014-09-01  12.973430\n",
      "9  2014-10-01  13.004295\n",
      "10 2014-11-01  13.018453\n",
      "11 2014-12-01  13.176903\n",
      "12 2015-01-01  12.920218\n",
      "13 2015-02-01  12.925364\n",
      "14 2015-03-01  13.039289\n",
      "15 2015-04-01  13.028558\n",
      "16 2015-05-01  13.081649\n",
      "17 2015-06-01  13.070986\n",
      "18 2015-07-01  13.067384\n",
      "19 2015-08-01  13.095212\n",
      "20 2015-09-01  13.027300\n",
      "21 2015-10-01  13.052987\n",
      "22 2015-11-01  13.071576\n",
      "23 2015-12-01  13.229039\n",
      "24 2016-01-01  12.970646\n",
      "25 2016-02-01  12.987261\n",
      "26 2016-03-01  13.104376\n",
      "27 2016-04-01  13.089420\n"
     ]
    },
    {
     "name": "stderr",
     "output_type": "stream",
     "text": [
      "INFO:fbprophet:Disabling weekly seasonality. Run prophet with weekly_seasonality=True to override this.\n",
      "INFO:fbprophet:Disabling daily seasonality. Run prophet with daily_seasonality=True to override this.\n"
     ]
    },
    {
     "name": "stdout",
     "output_type": "stream",
     "text": [
      "predicted=             ds       yhat\n",
      "0  2014-01-01  12.869414\n",
      "1  2014-02-01  12.863574\n",
      "2  2014-03-01  12.990667\n",
      "3  2014-04-01  12.978496\n",
      "4  2014-05-01  13.032024\n",
      "5  2014-06-01  13.015855\n",
      "6  2014-07-01  13.014333\n",
      "7  2014-08-01  13.040208\n",
      "8  2014-09-01  12.973613\n",
      "9  2014-10-01  13.004380\n",
      "10 2014-11-01  13.018475\n",
      "11 2014-12-01  13.176615\n",
      "12 2015-01-01  12.919870\n",
      "13 2015-02-01  12.924711\n",
      "14 2015-03-01  13.039899\n",
      "15 2015-04-01  13.028925\n",
      "16 2015-05-01  13.081998\n",
      "17 2015-06-01  13.071084\n",
      "18 2015-07-01  13.067350\n",
      "19 2015-08-01  13.095229\n",
      "20 2015-09-01  13.027587\n",
      "21 2015-10-01  13.053342\n",
      "22 2015-11-01  13.071810\n",
      "23 2015-12-01  13.228952\n",
      "24 2016-01-01  12.969909\n",
      "25 2016-02-01  12.985759\n",
      "26 2016-03-01  13.102827\n",
      "27 2016-04-01  13.088758\n",
      "28 2016-05-01  13.143484\n"
     ]
    }
   ],
   "source": [
    "m = Prophet()\n",
    "m.fit(history_train)\n",
    "for t in range(1, len(test)+1):\n",
    "    future = test[['ds']].head(t)\n",
    "    forecast = m.predict(future)\n",
    "    df_fcast = forecast[['ds', 'yhat']]\n",
    "    df_fcast = df_fcast.rename(columns={'yhat': 'y'})\n",
    "    frm = [history_train, df_fcast]\n",
    "    history_train = pd.concat(frm)\n",
    "    m = Prophet()\n",
    "    m.fit(history_train)\n",
    "    print('predicted= ', forecast[['ds', 'yhat']])"
   ]
  },
  {
   "cell_type": "code",
   "execution_count": 10,
   "metadata": {},
   "outputs": [
    {
     "data": {
      "image/png": "[encoded data removed]",
      "text/plain": [
       "<Figure size 720x432 with 1 Axes>"
      ]
     },
     "metadata": {},
     "output_type": "display_data"
    }
   ],
   "source": [
    "fig1 = m.plot(forecast)"
   ]
  },
  {
   "cell_type": "code",
   "execution_count": 11,
   "metadata": {},
   "outputs": [
    {
     "data": {
      "image/png": "[encoded data removed]",
      "text/plain": [
       "<Figure size 648x432 with 2 Axes>"
      ]
     },
     "metadata": {},
     "output_type": "display_data"
    }
   ],
   "source": [
    "m.plot_components(forecast);"
   ]
  }
 ],
 "metadata": {
  "kernelspec": {
   "display_name": "Python 3",
   "language": "python",
   "name": "python3"
  },
  "language_info": {
   "codemirror_mode": {
    "name": "ipython",
    "version": 3
   },
   "file_extension": ".py",
   "mimetype": "text/x-python",
   "name": "python",
   "nbconvert_exporter": "python",
   "pygments_lexer": "ipython3",
   "version": "3.6.5"
  }
 },
 "nbformat": 4,
 "nbformat_minor": 4
}
