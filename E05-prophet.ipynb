{
 "cells": [
  {
   "cell_type": "markdown",
   "metadata": {},
   "source": [
    "# Exercise 05\n",
    "\n",
    "\n",
    "## Using the example_retail_sales dataset:\n",
    "- Standarize the dataset using np.log\n",
    "- Using prophet forescast the next 6 months of the sales logarithm\n",
    "- Predict the next 6 months of sales"
   ]
  },
  {
   "cell_type": "code",
   "execution_count": 1,
   "metadata": {},
   "outputs": [],
   "source": [
    "import numpy as np\n",
    "import pandas as pd\n",
    "%matplotlib inline\n",
    "from fbprophet import Prophet\n",
    "from fbprophet.plot import add_changepoints_to_plot"
   ]
  },
  {
   "cell_type": "code",
   "execution_count": 2,
   "metadata": {},
   "outputs": [
    {
     "data": {
      "text/html": [
       "<div>\n",
       "<style scoped>\n",
       "    .dataframe tbody tr th:only-of-type {\n",
       "        vertical-align: middle;\n",
       "    }\n",
       "\n",
       "    .dataframe tbody tr th {\n",
       "        vertical-align: top;\n",
       "    }\n",
       "\n",
       "    .dataframe thead th {\n",
       "        text-align: right;\n",
       "    }\n",
       "</style>\n",
       "<table border=\"1\" class=\"dataframe\">\n",
       "  <thead>\n",
       "    <tr style=\"text-align: right;\">\n",
       "      <th></th>\n",
       "      <th>ds</th>\n",
       "      <th>y</th>\n",
       "    </tr>\n",
       "  </thead>\n",
       "  <tbody>\n",
       "    <tr>\n",
       "      <th>0</th>\n",
       "      <td>1992-01-01</td>\n",
       "      <td>146376</td>\n",
       "    </tr>\n",
       "    <tr>\n",
       "      <th>1</th>\n",
       "      <td>1992-02-01</td>\n",
       "      <td>147079</td>\n",
       "    </tr>\n",
       "    <tr>\n",
       "      <th>2</th>\n",
       "      <td>1992-03-01</td>\n",
       "      <td>159336</td>\n",
       "    </tr>\n",
       "    <tr>\n",
       "      <th>3</th>\n",
       "      <td>1992-04-01</td>\n",
       "      <td>163669</td>\n",
       "    </tr>\n",
       "    <tr>\n",
       "      <th>4</th>\n",
       "      <td>1992-05-01</td>\n",
       "      <td>170068</td>\n",
       "    </tr>\n",
       "  </tbody>\n",
       "</table>\n",
       "</div>"
      ],
      "text/plain": [
       "           ds       y\n",
       "0  1992-01-01  146376\n",
       "1  1992-02-01  147079\n",
       "2  1992-03-01  159336\n",
       "3  1992-04-01  163669\n",
       "4  1992-05-01  170068"
      ]
     },
     "execution_count": 2,
     "metadata": {},
     "output_type": "execute_result"
    }
   ],
   "source": [
    "retail = pd.read_csv('../EjerciciosModelosAvanzados1/example_retail_sales.csv')\n",
    "retail.head()"
   ]
  },
  {
   "cell_type": "code",
   "execution_count": 3,
   "metadata": {},
   "outputs": [
    {
     "data": {
      "text/html": [
       "<div>\n",
       "<style scoped>\n",
       "    .dataframe tbody tr th:only-of-type {\n",
       "        vertical-align: middle;\n",
       "    }\n",
       "\n",
       "    .dataframe tbody tr th {\n",
       "        vertical-align: top;\n",
       "    }\n",
       "\n",
       "    .dataframe thead th {\n",
       "        text-align: right;\n",
       "    }\n",
       "</style>\n",
       "<table border=\"1\" class=\"dataframe\">\n",
       "  <thead>\n",
       "    <tr style=\"text-align: right;\">\n",
       "      <th></th>\n",
       "      <th>ds</th>\n",
       "      <th>y</th>\n",
       "    </tr>\n",
       "  </thead>\n",
       "  <tbody>\n",
       "    <tr>\n",
       "      <th>0</th>\n",
       "      <td>1992-01-01</td>\n",
       "      <td>146376</td>\n",
       "    </tr>\n",
       "    <tr>\n",
       "      <th>1</th>\n",
       "      <td>1992-02-01</td>\n",
       "      <td>147079</td>\n",
       "    </tr>\n",
       "    <tr>\n",
       "      <th>2</th>\n",
       "      <td>1992-03-01</td>\n",
       "      <td>159336</td>\n",
       "    </tr>\n",
       "    <tr>\n",
       "      <th>3</th>\n",
       "      <td>1992-04-01</td>\n",
       "      <td>163669</td>\n",
       "    </tr>\n",
       "    <tr>\n",
       "      <th>4</th>\n",
       "      <td>1992-05-01</td>\n",
       "      <td>170068</td>\n",
       "    </tr>\n",
       "  </tbody>\n",
       "</table>\n",
       "</div>"
      ],
      "text/plain": [
       "          ds       y\n",
       "0 1992-01-01  146376\n",
       "1 1992-02-01  147079\n",
       "2 1992-03-01  159336\n",
       "3 1992-04-01  163669\n",
       "4 1992-05-01  170068"
      ]
     },
     "execution_count": 3,
     "metadata": {},
     "output_type": "execute_result"
    }
   ],
   "source": [
    "df = pd.DataFrame()\n",
    "df['ds'] = pd.to_datetime(retail['ds'])\n",
    "df['y'] = retail['y']\n",
    "df.head()"
   ]
  },
  {
   "cell_type": "code",
   "execution_count": 4,
   "metadata": {},
   "outputs": [
    {
     "data": {
      "image/png": "[encoded data removed]",
      "text/plain": [
       "<Figure size 432x288 with 1 Axes>"
      ]
     },
     "metadata": {
      "needs_background": "light"
     },
     "output_type": "display_data"
    }
   ],
   "source": [
    "df['y'].plot();"
   ]
  },
  {
   "cell_type": "code",
   "execution_count": 5,
   "metadata": {},
   "outputs": [
    {
     "data": {
      "text/html": [
       "<div>\n",
       "<style scoped>\n",
       "    .dataframe tbody tr th:only-of-type {\n",
       "        vertical-align: middle;\n",
       "    }\n",
       "\n",
       "    .dataframe tbody tr th {\n",
       "        vertical-align: top;\n",
       "    }\n",
       "\n",
       "    .dataframe thead th {\n",
       "        text-align: right;\n",
       "    }\n",
       "</style>\n",
       "<table border=\"1\" class=\"dataframe\">\n",
       "  <thead>\n",
       "    <tr style=\"text-align: right;\">\n",
       "      <th></th>\n",
       "      <th>y_log</th>\n",
       "    </tr>\n",
       "  </thead>\n",
       "  <tbody>\n",
       "    <tr>\n",
       "      <th>0</th>\n",
       "      <td>11.893934</td>\n",
       "    </tr>\n",
       "    <tr>\n",
       "      <th>1</th>\n",
       "      <td>11.898725</td>\n",
       "    </tr>\n",
       "    <tr>\n",
       "      <th>2</th>\n",
       "      <td>11.978770</td>\n",
       "    </tr>\n",
       "    <tr>\n",
       "      <th>3</th>\n",
       "      <td>12.005601</td>\n",
       "    </tr>\n",
       "    <tr>\n",
       "      <th>4</th>\n",
       "      <td>12.043954</td>\n",
       "    </tr>\n",
       "  </tbody>\n",
       "</table>\n",
       "</div>"
      ],
      "text/plain": [
       "       y_log\n",
       "0  11.893934\n",
       "1  11.898725\n",
       "2  11.978770\n",
       "3  12.005601\n",
       "4  12.043954"
      ]
     },
     "execution_count": 5,
     "metadata": {},
     "output_type": "execute_result"
    }
   ],
   "source": [
    "y_log = pd.DataFrame(np.log(df['y']))\n",
    "y_log = y_log.rename(columns={'y': 'y_log'})\n",
    "y_log.head()"
   ]
  },
  {
   "cell_type": "code",
   "execution_count": 6,
   "metadata": {},
   "outputs": [
    {
     "data": {
      "text/html": [
       "<div>\n",
       "<style scoped>\n",
       "    .dataframe tbody tr th:only-of-type {\n",
       "        vertical-align: middle;\n",
       "    }\n",
       "\n",
       "    .dataframe tbody tr th {\n",
       "        vertical-align: top;\n",
       "    }\n",
       "\n",
       "    .dataframe thead th {\n",
       "        text-align: right;\n",
       "    }\n",
       "</style>\n",
       "<table border=\"1\" class=\"dataframe\">\n",
       "  <thead>\n",
       "    <tr style=\"text-align: right;\">\n",
       "      <th></th>\n",
       "      <th>ds</th>\n",
       "      <th>y</th>\n",
       "      <th>y_log</th>\n",
       "    </tr>\n",
       "  </thead>\n",
       "  <tbody>\n",
       "    <tr>\n",
       "      <th>0</th>\n",
       "      <td>1992-01-01</td>\n",
       "      <td>146376</td>\n",
       "      <td>11.893934</td>\n",
       "    </tr>\n",
       "    <tr>\n",
       "      <th>1</th>\n",
       "      <td>1992-02-01</td>\n",
       "      <td>147079</td>\n",
       "      <td>11.898725</td>\n",
       "    </tr>\n",
       "    <tr>\n",
       "      <th>2</th>\n",
       "      <td>1992-03-01</td>\n",
       "      <td>159336</td>\n",
       "      <td>11.978770</td>\n",
       "    </tr>\n",
       "    <tr>\n",
       "      <th>3</th>\n",
       "      <td>1992-04-01</td>\n",
       "      <td>163669</td>\n",
       "      <td>12.005601</td>\n",
       "    </tr>\n",
       "    <tr>\n",
       "      <th>4</th>\n",
       "      <td>1992-05-01</td>\n",
       "      <td>170068</td>\n",
       "      <td>12.043954</td>\n",
       "    </tr>\n",
       "  </tbody>\n",
       "</table>\n",
       "</div>"
      ],
      "text/plain": [
       "          ds       y      y_log\n",
       "0 1992-01-01  146376  11.893934\n",
       "1 1992-02-01  147079  11.898725\n",
       "2 1992-03-01  159336  11.978770\n",
       "3 1992-04-01  163669  12.005601\n",
       "4 1992-05-01  170068  12.043954"
      ]
     },
     "execution_count": 6,
     "metadata": {},
     "output_type": "execute_result"
    }
   ],
   "source": [
    "df = pd.concat([df, y_log], axis=1)\n",
    "df.head()"
   ]
  },
  {
   "cell_type": "code",
   "execution_count": 7,
   "metadata": {},
   "outputs": [
    {
     "data": {
      "text/html": [
       "<div>\n",
       "<style scoped>\n",
       "    .dataframe tbody tr th:only-of-type {\n",
       "        vertical-align: middle;\n",
       "    }\n",
       "\n",
       "    .dataframe tbody tr th {\n",
       "        vertical-align: top;\n",
       "    }\n",
       "\n",
       "    .dataframe thead th {\n",
       "        text-align: right;\n",
       "    }\n",
       "</style>\n",
       "<table border=\"1\" class=\"dataframe\">\n",
       "  <thead>\n",
       "    <tr style=\"text-align: right;\">\n",
       "      <th></th>\n",
       "      <th>ds</th>\n",
       "      <th>y</th>\n",
       "    </tr>\n",
       "  </thead>\n",
       "  <tbody>\n",
       "    <tr>\n",
       "      <th>0</th>\n",
       "      <td>1992-01-01</td>\n",
       "      <td>11.893934</td>\n",
       "    </tr>\n",
       "    <tr>\n",
       "      <th>1</th>\n",
       "      <td>1992-02-01</td>\n",
       "      <td>11.898725</td>\n",
       "    </tr>\n",
       "    <tr>\n",
       "      <th>2</th>\n",
       "      <td>1992-03-01</td>\n",
       "      <td>11.978770</td>\n",
       "    </tr>\n",
       "    <tr>\n",
       "      <th>3</th>\n",
       "      <td>1992-04-01</td>\n",
       "      <td>12.005601</td>\n",
       "    </tr>\n",
       "    <tr>\n",
       "      <th>4</th>\n",
       "      <td>1992-05-01</td>\n",
       "      <td>12.043954</td>\n",
       "    </tr>\n",
       "  </tbody>\n",
       "</table>\n",
       "</div>"
      ],
      "text/plain": [
       "          ds          y\n",
       "0 1992-01-01  11.893934\n",
       "1 1992-02-01  11.898725\n",
       "2 1992-03-01  11.978770\n",
       "3 1992-04-01  12.005601\n",
       "4 1992-05-01  12.043954"
      ]
     },
     "execution_count": 7,
     "metadata": {},
     "output_type": "execute_result"
    }
   ],
   "source": [
    "# Borrando el Y y renombrando elYlog por y\n",
    "del df['y']\n",
    "df = df.rename(columns={'y_log': 'y'})\n",
    "df.head()"
   ]
  },
  {
   "cell_type": "code",
   "execution_count": 8,
   "metadata": {},
   "outputs": [
    {
     "data": {
      "text/html": [
       "<div>\n",
       "<style scoped>\n",
       "    .dataframe tbody tr th:only-of-type {\n",
       "        vertical-align: middle;\n",
       "    }\n",
       "\n",
       "    .dataframe tbody tr th {\n",
       "        vertical-align: top;\n",
       "    }\n",
       "\n",
       "    .dataframe thead th {\n",
       "        text-align: right;\n",
       "    }\n",
       "</style>\n",
       "<table border=\"1\" class=\"dataframe\">\n",
       "  <thead>\n",
       "    <tr style=\"text-align: right;\">\n",
       "      <th></th>\n",
       "      <th>ds</th>\n",
       "      <th>y</th>\n",
       "    </tr>\n",
       "  </thead>\n",
       "  <tbody>\n",
       "    <tr>\n",
       "      <th>288</th>\n",
       "      <td>2016-01-01</td>\n",
       "      <td>12.901537</td>\n",
       "    </tr>\n",
       "    <tr>\n",
       "      <th>289</th>\n",
       "      <td>2016-02-01</td>\n",
       "      <td>12.932543</td>\n",
       "    </tr>\n",
       "    <tr>\n",
       "      <th>290</th>\n",
       "      <td>2016-03-01</td>\n",
       "      <td>13.039184</td>\n",
       "    </tr>\n",
       "    <tr>\n",
       "      <th>291</th>\n",
       "      <td>2016-04-01</td>\n",
       "      <td>13.019078</td>\n",
       "    </tr>\n",
       "    <tr>\n",
       "      <th>292</th>\n",
       "      <td>2016-05-01</td>\n",
       "      <td>13.063507</td>\n",
       "    </tr>\n",
       "  </tbody>\n",
       "</table>\n",
       "</div>"
      ],
      "text/plain": [
       "            ds          y\n",
       "288 2016-01-01  12.901537\n",
       "289 2016-02-01  12.932543\n",
       "290 2016-03-01  13.039184\n",
       "291 2016-04-01  13.019078\n",
       "292 2016-05-01  13.063507"
      ]
     },
     "execution_count": 8,
     "metadata": {},
     "output_type": "execute_result"
    }
   ],
   "source": [
    "df.tail()"
   ]
  },
  {
   "cell_type": "code",
   "execution_count": 9,
   "metadata": {},
   "outputs": [
    {
     "data": {
      "image/png": "[encoded data removed]",
      "text/plain": [
       "<Figure size 432x288 with 1 Axes>"
      ]
     },
     "metadata": {
      "needs_background": "light"
     },
     "output_type": "display_data"
    }
   ],
   "source": [
    "#Grlaficando el y (ya transfromado por la función log)\n",
    "df['y'].plot();"
   ]
  },
  {
   "cell_type": "markdown",
   "metadata": {},
   "source": [
    "- Recuerden, toca hacer el rolling forecast del ultimo 10% de fechas con prophet"
   ]
  },
  {
   "cell_type": "code",
   "execution_count": 10,
   "metadata": {},
   "outputs": [
    {
     "data": {
      "text/html": [
       "<div>\n",
       "<style scoped>\n",
       "    .dataframe tbody tr th:only-of-type {\n",
       "        vertical-align: middle;\n",
       "    }\n",
       "\n",
       "    .dataframe tbody tr th {\n",
       "        vertical-align: top;\n",
       "    }\n",
       "\n",
       "    .dataframe thead th {\n",
       "        text-align: right;\n",
       "    }\n",
       "</style>\n",
       "<table border=\"1\" class=\"dataframe\">\n",
       "  <thead>\n",
       "    <tr style=\"text-align: right;\">\n",
       "      <th></th>\n",
       "      <th>ds</th>\n",
       "      <th>y</th>\n",
       "    </tr>\n",
       "  </thead>\n",
       "  <tbody>\n",
       "    <tr>\n",
       "      <th>258</th>\n",
       "      <td>2013-07-01</td>\n",
       "      <td>12.953606</td>\n",
       "    </tr>\n",
       "    <tr>\n",
       "      <th>259</th>\n",
       "      <td>2013-08-01</td>\n",
       "      <td>12.982986</td>\n",
       "    </tr>\n",
       "    <tr>\n",
       "      <th>260</th>\n",
       "      <td>2013-09-01</td>\n",
       "      <td>12.889672</td>\n",
       "    </tr>\n",
       "    <tr>\n",
       "      <th>261</th>\n",
       "      <td>2013-10-01</td>\n",
       "      <td>12.937815</td>\n",
       "    </tr>\n",
       "    <tr>\n",
       "      <th>262</th>\n",
       "      <td>2013-11-01</td>\n",
       "      <td>12.956571</td>\n",
       "    </tr>\n",
       "  </tbody>\n",
       "</table>\n",
       "</div>"
      ],
      "text/plain": [
       "            ds          y\n",
       "258 2013-07-01  12.953606\n",
       "259 2013-08-01  12.982986\n",
       "260 2013-09-01  12.889672\n",
       "261 2013-10-01  12.937815\n",
       "262 2013-11-01  12.956571"
      ]
     },
     "execution_count": 10,
     "metadata": {},
     "output_type": "execute_result"
    }
   ],
   "source": [
    "history_train = df.head(int(len(df)*(0.9)))\n",
    "history_train.tail()"
   ]
  },
  {
   "cell_type": "code",
   "execution_count": 11,
   "metadata": {},
   "outputs": [
    {
     "data": {
      "text/html": [
       "<div>\n",
       "<style scoped>\n",
       "    .dataframe tbody tr th:only-of-type {\n",
       "        vertical-align: middle;\n",
       "    }\n",
       "\n",
       "    .dataframe tbody tr th {\n",
       "        vertical-align: top;\n",
       "    }\n",
       "\n",
       "    .dataframe thead th {\n",
       "        text-align: right;\n",
       "    }\n",
       "</style>\n",
       "<table border=\"1\" class=\"dataframe\">\n",
       "  <thead>\n",
       "    <tr style=\"text-align: right;\">\n",
       "      <th></th>\n",
       "      <th>ds</th>\n",
       "      <th>y</th>\n",
       "    </tr>\n",
       "  </thead>\n",
       "  <tbody>\n",
       "    <tr>\n",
       "      <th>288</th>\n",
       "      <td>2016-01-01</td>\n",
       "      <td>12.901537</td>\n",
       "    </tr>\n",
       "    <tr>\n",
       "      <th>289</th>\n",
       "      <td>2016-02-01</td>\n",
       "      <td>12.932543</td>\n",
       "    </tr>\n",
       "    <tr>\n",
       "      <th>290</th>\n",
       "      <td>2016-03-01</td>\n",
       "      <td>13.039184</td>\n",
       "    </tr>\n",
       "    <tr>\n",
       "      <th>291</th>\n",
       "      <td>2016-04-01</td>\n",
       "      <td>13.019078</td>\n",
       "    </tr>\n",
       "    <tr>\n",
       "      <th>292</th>\n",
       "      <td>2016-05-01</td>\n",
       "      <td>13.063507</td>\n",
       "    </tr>\n",
       "  </tbody>\n",
       "</table>\n",
       "</div>"
      ],
      "text/plain": [
       "            ds          y\n",
       "288 2016-01-01  12.901537\n",
       "289 2016-02-01  12.932543\n",
       "290 2016-03-01  13.039184\n",
       "291 2016-04-01  13.019078\n",
       "292 2016-05-01  13.063507"
      ]
     },
     "execution_count": 11,
     "metadata": {},
     "output_type": "execute_result"
    }
   ],
   "source": [
    "test = df.tail(int(len(df)*(0.1)))\n",
    "test.tail()"
   ]
  },
  {
   "cell_type": "markdown",
   "metadata": {},
   "source": [
    "# Predicción Prophet del Log de Y"
   ]
  },
  {
   "cell_type": "code",
   "execution_count": 12,
   "metadata": {},
   "outputs": [
    {
     "name": "stderr",
     "output_type": "stream",
     "text": [
      "INFO:fbprophet:Disabling weekly seasonality. Run prophet with weekly_seasonality=True to override this.\n",
      "INFO:fbprophet:Disabling daily seasonality. Run prophet with daily_seasonality=True to override this.\n",
      "INFO:fbprophet:Disabling weekly seasonality. Run prophet with weekly_seasonality=True to override this.\n",
      "INFO:fbprophet:Disabling daily seasonality. Run prophet with daily_seasonality=True to override this.\n"
     ]
    },
    {
     "name": "stdout",
     "output_type": "stream",
     "text": [
      "predicted=            ds       yhat\n",
      "0 2014-01-01  12.874869\n"
     ]
    },
    {
     "name": "stderr",
     "output_type": "stream",
     "text": [
      "INFO:fbprophet:Disabling weekly seasonality. Run prophet with weekly_seasonality=True to override this.\n",
      "INFO:fbprophet:Disabling daily seasonality. Run prophet with daily_seasonality=True to override this.\n"
     ]
    },
    {
     "name": "stdout",
     "output_type": "stream",
     "text": [
      "predicted=            ds       yhat\n",
      "0 2014-01-01  12.874272\n",
      "1 2014-02-01  12.868591\n"
     ]
    },
    {
     "name": "stderr",
     "output_type": "stream",
     "text": [
      "INFO:fbprophet:Disabling weekly seasonality. Run prophet with weekly_seasonality=True to override this.\n",
      "INFO:fbprophet:Disabling daily seasonality. Run prophet with daily_seasonality=True to override this.\n"
     ]
    },
    {
     "name": "stdout",
     "output_type": "stream",
     "text": [
      "predicted=            ds       yhat\n",
      "0 2014-01-01  12.874049\n",
      "1 2014-02-01  12.868086\n",
      "2 2014-03-01  12.994934\n"
     ]
    },
    {
     "name": "stderr",
     "output_type": "stream",
     "text": [
      "INFO:fbprophet:Disabling weekly seasonality. Run prophet with weekly_seasonality=True to override this.\n",
      "INFO:fbprophet:Disabling daily seasonality. Run prophet with daily_seasonality=True to override this.\n"
     ]
    },
    {
     "name": "stdout",
     "output_type": "stream",
     "text": [
      "predicted=            ds       yhat\n",
      "0 2014-01-01  12.873753\n",
      "1 2014-02-01  12.867773\n",
      "2 2014-03-01  12.994607\n",
      "3 2014-04-01  12.982990\n"
     ]
    },
    {
     "name": "stderr",
     "output_type": "stream",
     "text": [
      "INFO:fbprophet:Disabling weekly seasonality. Run prophet with weekly_seasonality=True to override this.\n",
      "INFO:fbprophet:Disabling daily seasonality. Run prophet with daily_seasonality=True to override this.\n"
     ]
    },
    {
     "name": "stdout",
     "output_type": "stream",
     "text": [
      "predicted=            ds       yhat\n",
      "0 2014-01-01  12.873923\n",
      "1 2014-02-01  12.867748\n",
      "2 2014-03-01  12.994239\n",
      "3 2014-04-01  12.982199\n",
      "4 2014-05-01  13.036055\n"
     ]
    },
    {
     "name": "stderr",
     "output_type": "stream",
     "text": [
      "INFO:fbprophet:Disabling weekly seasonality. Run prophet with weekly_seasonality=True to override this.\n",
      "INFO:fbprophet:Disabling daily seasonality. Run prophet with daily_seasonality=True to override this.\n"
     ]
    },
    {
     "name": "stdout",
     "output_type": "stream",
     "text": [
      "predicted=            ds       yhat\n",
      "0 2014-01-01  12.873867\n",
      "1 2014-02-01  12.867618\n",
      "2 2014-03-01  12.994105\n",
      "3 2014-04-01  12.981881\n",
      "4 2014-05-01  13.035362\n",
      "5 2014-06-01  13.019523\n"
     ]
    },
    {
     "name": "stderr",
     "output_type": "stream",
     "text": [
      "INFO:fbprophet:Disabling weekly seasonality. Run prophet with weekly_seasonality=True to override this.\n",
      "INFO:fbprophet:Disabling daily seasonality. Run prophet with daily_seasonality=True to override this.\n"
     ]
    },
    {
     "name": "stdout",
     "output_type": "stream",
     "text": [
      "predicted=            ds       yhat\n",
      "0 2014-01-01  12.873196\n",
      "1 2014-02-01  12.868040\n",
      "2 2014-03-01  12.994460\n",
      "3 2014-04-01  12.982178\n",
      "4 2014-05-01  13.035610\n",
      "5 2014-06-01  13.019507\n",
      "6 2014-07-01  13.017971\n"
     ]
    },
    {
     "name": "stderr",
     "output_type": "stream",
     "text": [
      "INFO:fbprophet:Disabling weekly seasonality. Run prophet with weekly_seasonality=True to override this.\n",
      "INFO:fbprophet:Disabling daily seasonality. Run prophet with daily_seasonality=True to override this.\n"
     ]
    },
    {
     "name": "stdout",
     "output_type": "stream",
     "text": [
      "predicted=            ds       yhat\n",
      "0 2014-01-01  12.872633\n",
      "1 2014-02-01  12.867385\n",
      "2 2014-03-01  12.994711\n",
      "3 2014-04-01  12.982463\n",
      "4 2014-05-01  13.035804\n",
      "5 2014-06-01  13.019624\n",
      "6 2014-07-01  13.017869\n",
      "7 2014-08-01  13.043673\n"
     ]
    },
    {
     "name": "stderr",
     "output_type": "stream",
     "text": [
      "INFO:fbprophet:Disabling weekly seasonality. Run prophet with weekly_seasonality=True to override this.\n",
      "INFO:fbprophet:Disabling daily seasonality. Run prophet with daily_seasonality=True to override this.\n"
     ]
    },
    {
     "name": "stdout",
     "output_type": "stream",
     "text": [
      "predicted=            ds       yhat\n",
      "0 2014-01-01  12.872663\n",
      "1 2014-02-01  12.867414\n",
      "2 2014-03-01  12.994733\n",
      "3 2014-04-01  12.982513\n",
      "4 2014-05-01  13.035872\n",
      "5 2014-06-01  13.019701\n",
      "6 2014-07-01  13.017948\n",
      "7 2014-08-01  13.043746\n",
      "8 2014-09-01  12.976981\n"
     ]
    },
    {
     "name": "stderr",
     "output_type": "stream",
     "text": [
      "INFO:fbprophet:Disabling weekly seasonality. Run prophet with weekly_seasonality=True to override this.\n",
      "INFO:fbprophet:Disabling daily seasonality. Run prophet with daily_seasonality=True to override this.\n"
     ]
    },
    {
     "name": "stdout",
     "output_type": "stream",
     "text": [
      "predicted=            ds       yhat\n",
      "0 2014-01-01  12.871816\n",
      "1 2014-02-01  12.866410\n",
      "2 2014-03-01  12.993910\n",
      "3 2014-04-01  12.982441\n",
      "4 2014-05-01  13.035916\n",
      "5 2014-06-01  13.019762\n",
      "6 2014-07-01  13.018167\n",
      "7 2014-08-01  13.043684\n",
      "8 2014-09-01  12.976663\n",
      "9 2014-10-01  13.007017\n"
     ]
    },
    {
     "name": "stderr",
     "output_type": "stream",
     "text": [
      "INFO:fbprophet:Disabling weekly seasonality. Run prophet with weekly_seasonality=True to override this.\n",
      "INFO:fbprophet:Disabling daily seasonality. Run prophet with daily_seasonality=True to override this.\n"
     ]
    },
    {
     "name": "stdout",
     "output_type": "stream",
     "text": [
      "predicted=             ds       yhat\n",
      "0  2014-01-01  12.871090\n",
      "1  2014-02-01  12.865444\n",
      "2  2014-03-01  12.993033\n",
      "3  2014-04-01  12.981552\n",
      "4  2014-05-01  13.035635\n",
      "5  2014-06-01  13.019566\n",
      "6  2014-07-01  13.018001\n",
      "7  2014-08-01  13.043565\n",
      "8  2014-09-01  12.976435\n",
      "9  2014-10-01  13.006622\n",
      "10 2014-11-01  13.020068\n"
     ]
    },
    {
     "name": "stderr",
     "output_type": "stream",
     "text": [
      "INFO:fbprophet:Disabling weekly seasonality. Run prophet with weekly_seasonality=True to override this.\n",
      "INFO:fbprophet:Disabling daily seasonality. Run prophet with daily_seasonality=True to override this.\n"
     ]
    },
    {
     "name": "stdout",
     "output_type": "stream",
     "text": [
      "predicted=             ds       yhat\n",
      "0  2014-01-01  12.870483\n",
      "1  2014-02-01  12.864757\n",
      "2  2014-03-01  12.992197\n",
      "3  2014-04-01  12.980646\n",
      "4  2014-05-01  13.034685\n",
      "5  2014-06-01  13.019122\n",
      "6  2014-07-01  13.017563\n",
      "7  2014-08-01  13.043169\n",
      "8  2014-09-01  12.976114\n",
      "9  2014-10-01  13.006293\n",
      "10 2014-11-01  13.019648\n",
      "11 2014-12-01  13.177564\n"
     ]
    },
    {
     "name": "stderr",
     "output_type": "stream",
     "text": [
      "INFO:fbprophet:Disabling weekly seasonality. Run prophet with weekly_seasonality=True to override this.\n",
      "INFO:fbprophet:Disabling daily seasonality. Run prophet with daily_seasonality=True to override this.\n"
     ]
    },
    {
     "name": "stdout",
     "output_type": "stream",
     "text": [
      "predicted=             ds       yhat\n",
      "0  2014-01-01  12.870333\n",
      "1  2014-02-01  12.864337\n",
      "2  2014-03-01  12.991646\n",
      "3  2014-04-01  12.979867\n",
      "4  2014-05-01  13.033861\n",
      "5  2014-06-01  13.018285\n",
      "6  2014-07-01  13.017225\n",
      "7  2014-08-01  13.043029\n",
      "8  2014-09-01  12.975987\n",
      "9  2014-10-01  13.006164\n",
      "10 2014-11-01  13.019468\n",
      "11 2014-12-01  13.177323\n",
      "12 2015-01-01  12.919010\n"
     ]
    },
    {
     "name": "stderr",
     "output_type": "stream",
     "text": [
      "INFO:fbprophet:Disabling weekly seasonality. Run prophet with weekly_seasonality=True to override this.\n",
      "INFO:fbprophet:Disabling daily seasonality. Run prophet with daily_seasonality=True to override this.\n"
     ]
    },
    {
     "name": "stdout",
     "output_type": "stream",
     "text": [
      "predicted=             ds       yhat\n",
      "0  2014-01-01  12.870378\n",
      "1  2014-02-01  12.864394\n",
      "2  2014-03-01  12.991686\n",
      "3  2014-04-01  12.979905\n",
      "4  2014-05-01  13.033888\n",
      "5  2014-06-01  13.018329\n",
      "6  2014-07-01  13.017280\n",
      "7  2014-08-01  13.043085\n",
      "8  2014-09-01  12.976037\n",
      "9  2014-10-01  13.006213\n",
      "10 2014-11-01  13.019530\n",
      "11 2014-12-01  13.177405\n",
      "12 2015-01-01  12.919131\n",
      "13 2015-02-01  12.923821\n"
     ]
    },
    {
     "name": "stderr",
     "output_type": "stream",
     "text": [
      "INFO:fbprophet:Disabling weekly seasonality. Run prophet with weekly_seasonality=True to override this.\n",
      "INFO:fbprophet:Disabling daily seasonality. Run prophet with daily_seasonality=True to override this.\n"
     ]
    },
    {
     "name": "stdout",
     "output_type": "stream",
     "text": [
      "predicted=             ds       yhat\n",
      "0  2014-01-01  12.870680\n",
      "1  2014-02-01  12.864586\n",
      "2  2014-03-01  12.991309\n",
      "3  2014-04-01  12.979344\n",
      "4  2014-05-01  13.033075\n",
      "5  2014-06-01  13.017478\n",
      "6  2014-07-01  13.016480\n",
      "7  2014-08-01  13.042871\n",
      "8  2014-09-01  12.976034\n",
      "9  2014-10-01  13.006401\n",
      "10 2014-11-01  13.019841\n",
      "11 2014-12-01  13.177567\n",
      "12 2015-01-01  12.919191\n",
      "13 2015-02-01  12.923337\n",
      "14 2015-03-01  13.040641\n"
     ]
    },
    {
     "name": "stderr",
     "output_type": "stream",
     "text": [
      "INFO:fbprophet:Disabling weekly seasonality. Run prophet with weekly_seasonality=True to override this.\n",
      "INFO:fbprophet:Disabling daily seasonality. Run prophet with daily_seasonality=True to override this.\n"
     ]
    },
    {
     "name": "stdout",
     "output_type": "stream",
     "text": [
      "predicted=             ds       yhat\n",
      "0  2014-01-01  12.870837\n",
      "1  2014-02-01  12.864704\n",
      "2  2014-03-01  12.991411\n",
      "3  2014-04-01  12.979296\n",
      "4  2014-05-01  13.032898\n",
      "5  2014-06-01  13.017022\n",
      "6  2014-07-01  13.015925\n",
      "7  2014-08-01  13.042243\n",
      "8  2014-09-01  12.975896\n",
      "9  2014-10-01  13.006282\n",
      "10 2014-11-01  13.019743\n",
      "11 2014-12-01  13.177601\n",
      "12 2015-01-01  12.919103\n",
      "13 2015-02-01  12.923329\n",
      "14 2015-03-01  13.040649\n",
      "15 2015-04-01  13.028817\n"
     ]
    },
    {
     "name": "stderr",
     "output_type": "stream",
     "text": [
      "INFO:fbprophet:Disabling weekly seasonality. Run prophet with weekly_seasonality=True to override this.\n",
      "INFO:fbprophet:Disabling daily seasonality. Run prophet with daily_seasonality=True to override this.\n"
     ]
    },
    {
     "name": "stdout",
     "output_type": "stream",
     "text": [
      "predicted=             ds       yhat\n",
      "0  2014-01-01  12.871653\n",
      "1  2014-02-01  12.865261\n",
      "2  2014-03-01  12.991549\n",
      "3  2014-04-01  12.979049\n",
      "4  2014-05-01  13.032548\n",
      "5  2014-06-01  13.016581\n",
      "6  2014-07-01  13.015304\n",
      "7  2014-08-01  13.041636\n",
      "8  2014-09-01  12.975325\n",
      "9  2014-10-01  13.006099\n",
      "10 2014-11-01  13.019786\n",
      "11 2014-12-01  13.177847\n",
      "12 2015-01-01  12.919565\n",
      "13 2015-02-01  12.923684\n",
      "14 2015-03-01  13.040478\n",
      "15 2015-04-01  13.028835\n",
      "16 2015-05-01  13.081099\n"
     ]
    },
    {
     "name": "stderr",
     "output_type": "stream",
     "text": [
      "INFO:fbprophet:Disabling weekly seasonality. Run prophet with weekly_seasonality=True to override this.\n",
      "INFO:fbprophet:Disabling daily seasonality. Run prophet with daily_seasonality=True to override this.\n"
     ]
    },
    {
     "name": "stdout",
     "output_type": "stream",
     "text": [
      "predicted=             ds       yhat\n",
      "0  2014-01-01  12.871346\n",
      "1  2014-02-01  12.865925\n",
      "2  2014-03-01  12.992054\n",
      "3  2014-04-01  12.979416\n",
      "4  2014-05-01  13.032516\n",
      "5  2014-06-01  13.016422\n",
      "6  2014-07-01  13.014964\n",
      "7  2014-08-01  13.041037\n",
      "8  2014-09-01  12.974662\n",
      "9  2014-10-01  13.005436\n",
      "10 2014-11-01  13.019351\n",
      "11 2014-12-01  13.177577\n",
      "12 2015-01-01  12.919463\n",
      "13 2015-02-01  12.923958\n",
      "14 2015-03-01  13.040739\n",
      "15 2015-04-01  13.028837\n",
      "16 2015-05-01  13.081310\n",
      "17 2015-06-01  13.069849\n"
     ]
    },
    {
     "name": "stderr",
     "output_type": "stream",
     "text": [
      "INFO:fbprophet:Disabling weekly seasonality. Run prophet with weekly_seasonality=True to override this.\n",
      "INFO:fbprophet:Disabling daily seasonality. Run prophet with daily_seasonality=True to override this.\n"
     ]
    },
    {
     "name": "stdout",
     "output_type": "stream",
     "text": [
      "predicted=             ds       yhat\n",
      "0  2014-01-01  12.871359\n",
      "1  2014-02-01  12.865927\n",
      "2  2014-03-01  12.992058\n",
      "3  2014-04-01  12.979453\n",
      "4  2014-05-01  13.032569\n",
      "5  2014-06-01  13.016469\n",
      "6  2014-07-01  13.015029\n",
      "7  2014-08-01  13.041110\n",
      "8  2014-09-01  12.974724\n",
      "9  2014-10-01  13.005492\n",
      "10 2014-11-01  13.019422\n",
      "11 2014-12-01  13.177658\n",
      "12 2015-01-01  12.919556\n",
      "13 2015-02-01  12.924070\n",
      "14 2015-03-01  13.040756\n",
      "15 2015-04-01  13.028933\n",
      "16 2015-05-01  13.081440\n",
      "17 2015-06-01  13.069967\n",
      "18 2015-07-01  13.066134\n"
     ]
    },
    {
     "name": "stderr",
     "output_type": "stream",
     "text": [
      "INFO:fbprophet:Disabling weekly seasonality. Run prophet with weekly_seasonality=True to override this.\n",
      "INFO:fbprophet:Disabling daily seasonality. Run prophet with daily_seasonality=True to override this.\n"
     ]
    },
    {
     "name": "stdout",
     "output_type": "stream",
     "text": [
      "predicted=             ds       yhat\n",
      "0  2014-01-01  12.871154\n",
      "1  2014-02-01  12.865631\n",
      "2  2014-03-01  12.992399\n",
      "3  2014-04-01  12.979733\n",
      "4  2014-05-01  13.032812\n",
      "5  2014-06-01  13.016358\n",
      "6  2014-07-01  13.014770\n",
      "7  2014-08-01  13.040654\n",
      "8  2014-09-01  12.973922\n",
      "9  2014-10-01  13.004792\n",
      "10 2014-11-01  13.018788\n",
      "11 2014-12-01  13.177226\n",
      "12 2015-01-01  12.919372\n",
      "13 2015-02-01  12.924098\n",
      "14 2015-03-01  13.040318\n",
      "15 2015-04-01  13.028766\n",
      "16 2015-05-01  13.081215\n",
      "17 2015-06-01  13.070048\n",
      "18 2015-07-01  13.065905\n",
      "19 2015-08-01  13.093772\n"
     ]
    },
    {
     "name": "stderr",
     "output_type": "stream",
     "text": [
      "INFO:fbprophet:Disabling weekly seasonality. Run prophet with weekly_seasonality=True to override this.\n",
      "INFO:fbprophet:Disabling daily seasonality. Run prophet with daily_seasonality=True to override this.\n"
     ]
    },
    {
     "name": "stdout",
     "output_type": "stream",
     "text": [
      "predicted=             ds       yhat\n",
      "0  2014-01-01  12.870702\n",
      "1  2014-02-01  12.865043\n",
      "2  2014-03-01  12.991980\n",
      "3  2014-04-01  12.980075\n",
      "4  2014-05-01  13.033181\n",
      "5  2014-06-01  13.016699\n",
      "6  2014-07-01  13.014825\n",
      "7  2014-08-01  13.040533\n",
      "8  2014-09-01  12.973580\n",
      "9  2014-10-01  13.003980\n",
      "10 2014-11-01  13.017946\n",
      "11 2014-12-01  13.176401\n",
      "12 2015-01-01  12.918727\n",
      "13 2015-02-01  12.923610\n",
      "14 2015-03-01  13.039428\n",
      "15 2015-04-01  13.028552\n",
      "16 2015-05-01  13.081091\n",
      "17 2015-06-01  13.069860\n",
      "18 2015-07-01  13.065981\n",
      "19 2015-08-01  13.093542\n",
      "20 2015-09-01  13.025376\n"
     ]
    },
    {
     "name": "stderr",
     "output_type": "stream",
     "text": [
      "INFO:fbprophet:Disabling weekly seasonality. Run prophet with weekly_seasonality=True to override this.\n",
      "INFO:fbprophet:Disabling daily seasonality. Run prophet with daily_seasonality=True to override this.\n"
     ]
    },
    {
     "name": "stdout",
     "output_type": "stream",
     "text": [
      "predicted=             ds       yhat\n",
      "0  2014-01-01  12.870266\n",
      "1  2014-02-01  12.864464\n",
      "2  2014-03-01  12.991499\n",
      "3  2014-04-01  12.979606\n",
      "4  2014-05-01  13.033402\n",
      "5  2014-06-01  13.016986\n",
      "6  2014-07-01  13.015136\n",
      "7  2014-08-01  13.040643\n",
      "8  2014-09-01  12.973540\n",
      "9  2014-10-01  13.003735\n",
      "10 2014-11-01  13.017048\n",
      "11 2014-12-01  13.175512\n",
      "12 2015-01-01  12.917953\n",
      "13 2015-02-01  12.922929\n",
      "14 2015-03-01  13.038568\n",
      "15 2015-04-01  13.027780\n",
      "16 2015-05-01  13.080865\n",
      "17 2015-06-01  13.069696\n",
      "18 2015-07-01  13.065769\n",
      "19 2015-08-01  13.093511\n",
      "20 2015-09-01  13.025194\n",
      "21 2015-10-01  13.050280\n"
     ]
    },
    {
     "name": "stderr",
     "output_type": "stream",
     "text": [
      "INFO:fbprophet:Disabling weekly seasonality. Run prophet with weekly_seasonality=True to override this.\n",
      "INFO:fbprophet:Disabling daily seasonality. Run prophet with daily_seasonality=True to override this.\n"
     ]
    },
    {
     "name": "stdout",
     "output_type": "stream",
     "text": [
      "predicted=             ds       yhat\n",
      "0  2014-01-01  12.869993\n",
      "1  2014-02-01  12.864179\n",
      "2  2014-03-01  12.991244\n",
      "3  2014-04-01  12.979304\n",
      "4  2014-05-01  13.033023\n",
      "5  2014-06-01  13.017089\n",
      "6  2014-07-01  13.015300\n",
      "7  2014-08-01  13.040817\n",
      "8  2014-09-01  12.973673\n",
      "9  2014-10-01  13.003806\n",
      "10 2014-11-01  13.017119\n",
      "11 2014-12-01  13.174809\n",
      "12 2015-01-01  12.917391\n",
      "13 2015-02-01  12.922488\n",
      "14 2015-03-01  13.038106\n",
      "15 2015-04-01  13.027205\n",
      "16 2015-05-01  13.080449\n",
      "17 2015-06-01  13.069518\n",
      "18 2015-07-01  13.065649\n",
      "19 2015-08-01  13.093301\n",
      "20 2015-09-01  13.025152\n",
      "21 2015-10-01  13.050273\n",
      "22 2015-11-01  13.067850\n"
     ]
    },
    {
     "name": "stderr",
     "output_type": "stream",
     "text": [
      "INFO:fbprophet:Disabling weekly seasonality. Run prophet with weekly_seasonality=True to override this.\n",
      "INFO:fbprophet:Disabling daily seasonality. Run prophet with daily_seasonality=True to override this.\n"
     ]
    },
    {
     "name": "stdout",
     "output_type": "stream",
     "text": [
      "predicted=             ds       yhat\n",
      "0  2014-01-01  12.870001\n",
      "1  2014-02-01  12.864184\n",
      "2  2014-03-01  12.991253\n",
      "3  2014-04-01  12.979310\n",
      "4  2014-05-01  13.033015\n",
      "5  2014-06-01  13.017091\n",
      "6  2014-07-01  13.015292\n",
      "7  2014-08-01  13.040820\n",
      "8  2014-09-01  12.973672\n",
      "9  2014-10-01  13.003791\n",
      "10 2014-11-01  13.017090\n",
      "11 2014-12-01  13.174787\n",
      "12 2015-01-01  12.917340\n",
      "13 2015-02-01  12.922452\n",
      "14 2015-03-01  13.038120\n",
      "15 2015-04-01  13.027206\n",
      "16 2015-05-01  13.080409\n",
      "17 2015-06-01  13.069493\n",
      "18 2015-07-01  13.065599\n",
      "19 2015-08-01  13.093291\n",
      "20 2015-09-01  13.025136\n",
      "21 2015-10-01  13.050239\n",
      "22 2015-11-01  13.067795\n",
      "23 2015-12-01  13.224035\n"
     ]
    },
    {
     "name": "stderr",
     "output_type": "stream",
     "text": [
      "INFO:fbprophet:Disabling weekly seasonality. Run prophet with weekly_seasonality=True to override this.\n",
      "INFO:fbprophet:Disabling daily seasonality. Run prophet with daily_seasonality=True to override this.\n"
     ]
    },
    {
     "name": "stdout",
     "output_type": "stream",
     "text": [
      "predicted=             ds       yhat\n",
      "0  2014-01-01  12.869899\n",
      "1  2014-02-01  12.864008\n",
      "2  2014-03-01  12.990992\n",
      "3  2014-04-01  12.978965\n",
      "4  2014-05-01  13.032579\n",
      "5  2014-06-01  13.016690\n",
      "6  2014-07-01  13.015304\n",
      "7  2014-08-01  13.040825\n",
      "8  2014-09-01  12.973716\n",
      "9  2014-10-01  13.003837\n",
      "10 2014-11-01  13.017125\n",
      "11 2014-12-01  13.174810\n",
      "12 2015-01-01  12.916461\n",
      "13 2015-02-01  12.921529\n",
      "14 2015-03-01  13.037551\n",
      "15 2015-04-01  13.026480\n",
      "16 2015-05-01  13.079514\n",
      "17 2015-06-01  13.068661\n",
      "18 2015-07-01  13.064958\n",
      "19 2015-08-01  13.092706\n",
      "20 2015-09-01  13.024665\n",
      "21 2015-10-01  13.049833\n",
      "22 2015-11-01  13.067489\n",
      "23 2015-12-01  13.223791\n",
      "24 2016-01-01  12.963193\n"
     ]
    },
    {
     "name": "stderr",
     "output_type": "stream",
     "text": [
      "INFO:fbprophet:Disabling weekly seasonality. Run prophet with weekly_seasonality=True to override this.\n",
      "INFO:fbprophet:Disabling daily seasonality. Run prophet with daily_seasonality=True to override this.\n"
     ]
    },
    {
     "name": "stdout",
     "output_type": "stream",
     "text": [
      "predicted=             ds       yhat\n",
      "0  2014-01-01  12.870080\n",
      "1  2014-02-01  12.864012\n",
      "2  2014-03-01  12.990999\n",
      "3  2014-04-01  12.978842\n",
      "4  2014-05-01  13.032383\n",
      "5  2014-06-01  13.016381\n",
      "6  2014-07-01  13.014928\n",
      "7  2014-08-01  13.040826\n",
      "8  2014-09-01  12.973704\n",
      "9  2014-10-01  13.003842\n",
      "10 2014-11-01  13.017188\n",
      "11 2014-12-01  13.174836\n",
      "12 2015-01-01  12.916415\n",
      "13 2015-02-01  12.921324\n",
      "14 2015-03-01  13.037373\n",
      "15 2015-04-01  13.026029\n",
      "16 2015-05-01  13.078933\n",
      "17 2015-06-01  13.068170\n",
      "18 2015-07-01  13.064452\n",
      "19 2015-08-01  13.092430\n",
      "20 2015-09-01  13.024372\n",
      "21 2015-10-01  13.049603\n",
      "22 2015-11-01  13.067236\n",
      "23 2015-12-01  13.223567\n",
      "24 2016-01-01  12.962922\n",
      "25 2016-02-01  12.978694\n"
     ]
    },
    {
     "name": "stderr",
     "output_type": "stream",
     "text": [
      "INFO:fbprophet:Disabling weekly seasonality. Run prophet with weekly_seasonality=True to override this.\n",
      "INFO:fbprophet:Disabling daily seasonality. Run prophet with daily_seasonality=True to override this.\n"
     ]
    },
    {
     "name": "stdout",
     "output_type": "stream",
     "text": [
      "predicted=             ds       yhat\n",
      "0  2014-01-01  12.870443\n",
      "1  2014-02-01  12.864160\n",
      "2  2014-03-01  12.990967\n",
      "3  2014-04-01  12.978700\n",
      "4  2014-05-01  13.032090\n",
      "5  2014-06-01  13.016031\n",
      "6  2014-07-01  13.014639\n",
      "7  2014-08-01  13.040556\n",
      "8  2014-09-01  12.973816\n",
      "9  2014-10-01  13.004095\n",
      "10 2014-11-01  13.017401\n",
      "11 2014-12-01  13.175093\n",
      "12 2015-01-01  12.916568\n",
      "13 2015-02-01  12.920679\n",
      "14 2015-03-01  13.037312\n",
      "15 2015-04-01  13.025678\n",
      "16 2015-05-01  13.078292\n",
      "17 2015-06-01  13.067413\n",
      "18 2015-07-01  13.063826\n",
      "19 2015-08-01  13.091891\n",
      "20 2015-09-01  13.024104\n",
      "21 2015-10-01  13.049542\n",
      "22 2015-11-01  13.067157\n",
      "23 2015-12-01  13.223613\n",
      "24 2016-01-01  12.962858\n",
      "25 2016-02-01  12.977257\n",
      "26 2016-03-01  13.094348\n"
     ]
    },
    {
     "name": "stderr",
     "output_type": "stream",
     "text": [
      "INFO:fbprophet:Disabling weekly seasonality. Run prophet with weekly_seasonality=True to override this.\n",
      "INFO:fbprophet:Disabling daily seasonality. Run prophet with daily_seasonality=True to override this.\n"
     ]
    },
    {
     "name": "stdout",
     "output_type": "stream",
     "text": [
      "predicted=             ds       yhat\n",
      "0  2014-01-01  12.871063\n",
      "1  2014-02-01  12.864679\n",
      "2  2014-03-01  12.991089\n",
      "3  2014-04-01  12.978555\n",
      "4  2014-05-01  13.031854\n",
      "5  2014-06-01  13.015737\n",
      "6  2014-07-01  13.014269\n",
      "7  2014-08-01  13.040248\n",
      "8  2014-09-01  12.973516\n",
      "9  2014-10-01  13.004171\n",
      "10 2014-11-01  13.017609\n",
      "11 2014-12-01  13.175544\n",
      "12 2015-01-01  12.916970\n",
      "13 2015-02-01  12.921034\n",
      "14 2015-03-01  13.037729\n",
      "15 2015-04-01  13.025521\n",
      "16 2015-05-01  13.077873\n",
      "17 2015-06-01  13.066846\n",
      "18 2015-07-01  13.063333\n",
      "19 2015-08-01  13.091562\n",
      "20 2015-09-01  13.023861\n",
      "21 2015-10-01  13.049637\n",
      "22 2015-11-01  13.067408\n",
      "23 2015-12-01  13.223727\n",
      "24 2016-01-01  12.963046\n",
      "25 2016-02-01  12.977455\n",
      "26 2016-03-01  13.093595\n",
      "27 2016-04-01  13.080784\n"
     ]
    },
    {
     "name": "stderr",
     "output_type": "stream",
     "text": [
      "INFO:fbprophet:Disabling weekly seasonality. Run prophet with weekly_seasonality=True to override this.\n",
      "INFO:fbprophet:Disabling daily seasonality. Run prophet with daily_seasonality=True to override this.\n"
     ]
    },
    {
     "name": "stdout",
     "output_type": "stream",
     "text": [
      "predicted=             ds       yhat\n",
      "0  2014-01-01  12.871073\n",
      "1  2014-02-01  12.864699\n",
      "2  2014-03-01  12.991095\n",
      "3  2014-04-01  12.978557\n",
      "4  2014-05-01  13.031848\n",
      "5  2014-06-01  13.015727\n",
      "6  2014-07-01  13.014260\n",
      "7  2014-08-01  13.040241\n",
      "8  2014-09-01  12.973518\n",
      "9  2014-10-01  13.004174\n",
      "10 2014-11-01  13.017615\n",
      "11 2014-12-01  13.175546\n",
      "12 2015-01-01  12.916942\n",
      "13 2015-02-01  12.920991\n",
      "14 2015-03-01  13.037758\n",
      "15 2015-04-01  13.025522\n",
      "16 2015-05-01  13.077848\n",
      "17 2015-06-01  13.066807\n",
      "18 2015-07-01  13.063295\n",
      "19 2015-08-01  13.091531\n",
      "20 2015-09-01  13.023847\n",
      "21 2015-10-01  13.049632\n",
      "22 2015-11-01  13.067413\n",
      "23 2015-12-01  13.223717\n",
      "24 2016-01-01  12.962979\n",
      "25 2016-02-01  12.977351\n",
      "26 2016-03-01  13.093489\n",
      "27 2016-04-01  13.080715\n",
      "28 2016-05-01  13.136184\n"
     ]
    }
   ],
   "source": [
    "m = Prophet()\n",
    "m.fit(history_train)\n",
    "for t in range(1, len(test)+1):\n",
    "    future = test[['ds']].head(t)\n",
    "    forecast = m.predict(future)\n",
    "    df_fcast = forecast[['ds', 'yhat']]\n",
    "    df_fcast = df_fcast.rename(columns={'yhat': 'y'})\n",
    "    frm = [history_train, df_fcast.tail(1)]\n",
    "    history_train = pd.concat(frm)\n",
    "    m = Prophet()\n",
    "    m.fit(history_train)\n",
    "    print('predicted= ', forecast[['ds', 'yhat']])"
   ]
  },
  {
   "cell_type": "code",
   "execution_count": 13,
   "metadata": {},
   "outputs": [
    {
     "data": {
      "image/png": "[encoded data removed]",
      "text/plain": [
       "<Figure size 720x432 with 1 Axes>"
      ]
     },
     "metadata": {},
     "output_type": "display_data"
    }
   ],
   "source": [
    "fig1 = m.plot(forecast)"
   ]
  },
  {
   "cell_type": "code",
   "execution_count": 16,
   "metadata": {},
   "outputs": [
    {
     "data": {
      "image/png": "[encoded data removed]",
      "text/plain": [
       "<Figure size 648x432 with 2 Axes>"
      ]
     },
     "metadata": {},
     "output_type": "display_data"
    }
   ],
   "source": [
    "m.plot_components(forecast);"
   ]
  },
  {
   "cell_type": "markdown",
   "metadata": {},
   "source": [
    "# Predicción Prophet de Y original"
   ]
  },
  {
   "cell_type": "code",
   "execution_count": 17,
   "metadata": {},
   "outputs": [
    {
     "data": {
      "text/html": [
       "<div>\n",
       "<style scoped>\n",
       "    .dataframe tbody tr th:only-of-type {\n",
       "        vertical-align: middle;\n",
       "    }\n",
       "\n",
       "    .dataframe tbody tr th {\n",
       "        vertical-align: top;\n",
       "    }\n",
       "\n",
       "    .dataframe thead th {\n",
       "        text-align: right;\n",
       "    }\n",
       "</style>\n",
       "<table border=\"1\" class=\"dataframe\">\n",
       "  <thead>\n",
       "    <tr style=\"text-align: right;\">\n",
       "      <th></th>\n",
       "      <th>ds</th>\n",
       "      <th>y</th>\n",
       "    </tr>\n",
       "  </thead>\n",
       "  <tbody>\n",
       "    <tr>\n",
       "      <th>0</th>\n",
       "      <td>1992-01-01</td>\n",
       "      <td>146376</td>\n",
       "    </tr>\n",
       "    <tr>\n",
       "      <th>1</th>\n",
       "      <td>1992-02-01</td>\n",
       "      <td>147079</td>\n",
       "    </tr>\n",
       "    <tr>\n",
       "      <th>2</th>\n",
       "      <td>1992-03-01</td>\n",
       "      <td>159336</td>\n",
       "    </tr>\n",
       "    <tr>\n",
       "      <th>3</th>\n",
       "      <td>1992-04-01</td>\n",
       "      <td>163669</td>\n",
       "    </tr>\n",
       "    <tr>\n",
       "      <th>4</th>\n",
       "      <td>1992-05-01</td>\n",
       "      <td>170068</td>\n",
       "    </tr>\n",
       "  </tbody>\n",
       "</table>\n",
       "</div>"
      ],
      "text/plain": [
       "          ds       y\n",
       "0 1992-01-01  146376\n",
       "1 1992-02-01  147079\n",
       "2 1992-03-01  159336\n",
       "3 1992-04-01  163669\n",
       "4 1992-05-01  170068"
      ]
     },
     "execution_count": 17,
     "metadata": {},
     "output_type": "execute_result"
    }
   ],
   "source": [
    "df = pd.DataFrame()\n",
    "df['ds'] = pd.to_datetime(retail['ds'])\n",
    "df['y'] = retail['y']\n",
    "df.head()"
   ]
  },
  {
   "cell_type": "code",
   "execution_count": 18,
   "metadata": {},
   "outputs": [
    {
     "data": {
      "text/html": [
       "<div>\n",
       "<style scoped>\n",
       "    .dataframe tbody tr th:only-of-type {\n",
       "        vertical-align: middle;\n",
       "    }\n",
       "\n",
       "    .dataframe tbody tr th {\n",
       "        vertical-align: top;\n",
       "    }\n",
       "\n",
       "    .dataframe thead th {\n",
       "        text-align: right;\n",
       "    }\n",
       "</style>\n",
       "<table border=\"1\" class=\"dataframe\">\n",
       "  <thead>\n",
       "    <tr style=\"text-align: right;\">\n",
       "      <th></th>\n",
       "      <th>ds</th>\n",
       "      <th>y</th>\n",
       "    </tr>\n",
       "  </thead>\n",
       "  <tbody>\n",
       "    <tr>\n",
       "      <th>258</th>\n",
       "      <td>2013-07-01</td>\n",
       "      <td>422357</td>\n",
       "    </tr>\n",
       "    <tr>\n",
       "      <th>259</th>\n",
       "      <td>2013-08-01</td>\n",
       "      <td>434950</td>\n",
       "    </tr>\n",
       "    <tr>\n",
       "      <th>260</th>\n",
       "      <td>2013-09-01</td>\n",
       "      <td>396199</td>\n",
       "    </tr>\n",
       "    <tr>\n",
       "      <th>261</th>\n",
       "      <td>2013-10-01</td>\n",
       "      <td>415740</td>\n",
       "    </tr>\n",
       "    <tr>\n",
       "      <th>262</th>\n",
       "      <td>2013-11-01</td>\n",
       "      <td>423611</td>\n",
       "    </tr>\n",
       "  </tbody>\n",
       "</table>\n",
       "</div>"
      ],
      "text/plain": [
       "            ds       y\n",
       "258 2013-07-01  422357\n",
       "259 2013-08-01  434950\n",
       "260 2013-09-01  396199\n",
       "261 2013-10-01  415740\n",
       "262 2013-11-01  423611"
      ]
     },
     "execution_count": 18,
     "metadata": {},
     "output_type": "execute_result"
    }
   ],
   "source": [
    "history_train = df.head(int(len(df)*(0.9)))\n",
    "history_train.tail()"
   ]
  },
  {
   "cell_type": "code",
   "execution_count": 19,
   "metadata": {},
   "outputs": [
    {
     "data": {
      "text/html": [
       "<div>\n",
       "<style scoped>\n",
       "    .dataframe tbody tr th:only-of-type {\n",
       "        vertical-align: middle;\n",
       "    }\n",
       "\n",
       "    .dataframe tbody tr th {\n",
       "        vertical-align: top;\n",
       "    }\n",
       "\n",
       "    .dataframe thead th {\n",
       "        text-align: right;\n",
       "    }\n",
       "</style>\n",
       "<table border=\"1\" class=\"dataframe\">\n",
       "  <thead>\n",
       "    <tr style=\"text-align: right;\">\n",
       "      <th></th>\n",
       "      <th>ds</th>\n",
       "      <th>y</th>\n",
       "    </tr>\n",
       "  </thead>\n",
       "  <tbody>\n",
       "    <tr>\n",
       "      <th>288</th>\n",
       "      <td>2016-01-01</td>\n",
       "      <td>400928</td>\n",
       "    </tr>\n",
       "    <tr>\n",
       "      <th>289</th>\n",
       "      <td>2016-02-01</td>\n",
       "      <td>413554</td>\n",
       "    </tr>\n",
       "    <tr>\n",
       "      <th>290</th>\n",
       "      <td>2016-03-01</td>\n",
       "      <td>460093</td>\n",
       "    </tr>\n",
       "    <tr>\n",
       "      <th>291</th>\n",
       "      <td>2016-04-01</td>\n",
       "      <td>450935</td>\n",
       "    </tr>\n",
       "    <tr>\n",
       "      <th>292</th>\n",
       "      <td>2016-05-01</td>\n",
       "      <td>471421</td>\n",
       "    </tr>\n",
       "  </tbody>\n",
       "</table>\n",
       "</div>"
      ],
      "text/plain": [
       "            ds       y\n",
       "288 2016-01-01  400928\n",
       "289 2016-02-01  413554\n",
       "290 2016-03-01  460093\n",
       "291 2016-04-01  450935\n",
       "292 2016-05-01  471421"
      ]
     },
     "execution_count": 19,
     "metadata": {},
     "output_type": "execute_result"
    }
   ],
   "source": [
    "test = df.tail(int(len(df)*(0.1)))\n",
    "test.tail()"
   ]
  },
  {
   "cell_type": "code",
   "execution_count": 20,
   "metadata": {},
   "outputs": [
    {
     "name": "stderr",
     "output_type": "stream",
     "text": [
      "INFO:fbprophet:Disabling weekly seasonality. Run prophet with weekly_seasonality=True to override this.\n",
      "INFO:fbprophet:Disabling daily seasonality. Run prophet with daily_seasonality=True to override this.\n",
      "INFO:fbprophet:Disabling weekly seasonality. Run prophet with weekly_seasonality=True to override this.\n",
      "INFO:fbprophet:Disabling daily seasonality. Run prophet with daily_seasonality=True to override this.\n"
     ]
    },
    {
     "name": "stdout",
     "output_type": "stream",
     "text": [
      "predicted=            ds           yhat\n",
      "0 2014-01-01  399172.297803\n"
     ]
    },
    {
     "name": "stderr",
     "output_type": "stream",
     "text": [
      "INFO:fbprophet:Disabling weekly seasonality. Run prophet with weekly_seasonality=True to override this.\n",
      "INFO:fbprophet:Disabling daily seasonality. Run prophet with daily_seasonality=True to override this.\n"
     ]
    },
    {
     "name": "stdout",
     "output_type": "stream",
     "text": [
      "predicted=            ds           yhat\n",
      "0 2014-01-01  400134.893949\n",
      "1 2014-02-01  398991.531934\n"
     ]
    },
    {
     "name": "stderr",
     "output_type": "stream",
     "text": [
      "INFO:fbprophet:Disabling weekly seasonality. Run prophet with weekly_seasonality=True to override this.\n",
      "INFO:fbprophet:Disabling daily seasonality. Run prophet with daily_seasonality=True to override this.\n"
     ]
    },
    {
     "name": "stdout",
     "output_type": "stream",
     "text": [
      "predicted=            ds           yhat\n",
      "0 2014-01-01  400454.793058\n",
      "1 2014-02-01  399334.644674\n",
      "2 2014-03-01  434288.384636\n"
     ]
    },
    {
     "name": "stderr",
     "output_type": "stream",
     "text": [
      "INFO:fbprophet:Disabling weekly seasonality. Run prophet with weekly_seasonality=True to override this.\n",
      "INFO:fbprophet:Disabling daily seasonality. Run prophet with daily_seasonality=True to override this.\n"
     ]
    },
    {
     "name": "stdout",
     "output_type": "stream",
     "text": [
      "predicted=            ds           yhat\n",
      "0 2014-01-01  400052.397840\n",
      "1 2014-02-01  398903.284956\n",
      "2 2014-03-01  433838.814866\n",
      "3 2014-04-01  430506.990697\n"
     ]
    },
    {
     "name": "stderr",
     "output_type": "stream",
     "text": [
      "INFO:fbprophet:Disabling weekly seasonality. Run prophet with weekly_seasonality=True to override this.\n",
      "INFO:fbprophet:Disabling daily seasonality. Run prophet with daily_seasonality=True to override this.\n"
     ]
    },
    {
     "name": "stdout",
     "output_type": "stream",
     "text": [
      "predicted=            ds           yhat\n",
      "0 2014-01-01  399905.067242\n",
      "1 2014-02-01  398748.427493\n",
      "2 2014-03-01  433672.402762\n",
      "3 2014-04-01  430320.435909\n",
      "4 2014-05-01  447166.304039\n"
     ]
    },
    {
     "name": "stderr",
     "output_type": "stream",
     "text": [
      "INFO:fbprophet:Disabling weekly seasonality. Run prophet with weekly_seasonality=True to override this.\n",
      "INFO:fbprophet:Disabling daily seasonality. Run prophet with daily_seasonality=True to override this.\n"
     ]
    },
    {
     "name": "stdout",
     "output_type": "stream",
     "text": [
      "predicted=            ds           yhat\n",
      "0 2014-01-01  400435.343441\n",
      "1 2014-02-01  399314.128815\n",
      "2 2014-03-01  434277.693978\n",
      "3 2014-04-01  430967.209474\n",
      "4 2014-05-01  447839.912370\n",
      "5 2014-06-01  442806.509474\n"
     ]
    },
    {
     "name": "stderr",
     "output_type": "stream",
     "text": [
      "INFO:fbprophet:Disabling weekly seasonality. Run prophet with weekly_seasonality=True to override this.\n",
      "INFO:fbprophet:Disabling daily seasonality. Run prophet with daily_seasonality=True to override this.\n"
     ]
    },
    {
     "name": "stdout",
     "output_type": "stream",
     "text": [
      "predicted=            ds           yhat\n",
      "0 2014-01-01  400484.535932\n",
      "1 2014-02-01  399401.115334\n",
      "2 2014-03-01  434373.181226\n",
      "3 2014-04-01  431024.329337\n",
      "4 2014-05-01  447872.181579\n",
      "5 2014-06-01  442870.000690\n",
      "6 2014-07-01  443124.192935\n"
     ]
    },
    {
     "name": "stderr",
     "output_type": "stream",
     "text": [
      "INFO:fbprophet:Disabling weekly seasonality. Run prophet with weekly_seasonality=True to override this.\n",
      "INFO:fbprophet:Disabling daily seasonality. Run prophet with daily_seasonality=True to override this.\n"
     ]
    },
    {
     "name": "stdout",
     "output_type": "stream",
     "text": [
      "predicted=            ds           yhat\n",
      "0 2014-01-01  400100.934772\n",
      "1 2014-02-01  398911.920369\n",
      "2 2014-03-01  433873.702428\n",
      "3 2014-04-01  430548.470797\n",
      "4 2014-05-01  447391.084780\n",
      "5 2014-06-01  442379.413002\n",
      "6 2014-07-01  442642.332576\n",
      "7 2014-08-01  450728.386742\n"
     ]
    },
    {
     "name": "stderr",
     "output_type": "stream",
     "text": [
      "INFO:fbprophet:Disabling weekly seasonality. Run prophet with weekly_seasonality=True to override this.\n",
      "INFO:fbprophet:Disabling daily seasonality. Run prophet with daily_seasonality=True to override this.\n"
     ]
    },
    {
     "name": "stdout",
     "output_type": "stream",
     "text": [
      "predicted=            ds           yhat\n",
      "0 2014-01-01  400688.054812\n",
      "1 2014-02-01  399569.668247\n",
      "2 2014-03-01  434591.687385\n",
      "3 2014-04-01  431264.536190\n",
      "4 2014-05-01  448128.851574\n",
      "5 2014-06-01  443126.161974\n",
      "6 2014-07-01  443423.291149\n",
      "7 2014-08-01  451544.457099\n",
      "8 2014-09-01  431218.046088\n"
     ]
    },
    {
     "name": "stderr",
     "output_type": "stream",
     "text": [
      "INFO:fbprophet:Disabling weekly seasonality. Run prophet with weekly_seasonality=True to override this.\n",
      "INFO:fbprophet:Disabling daily seasonality. Run prophet with daily_seasonality=True to override this.\n"
     ]
    },
    {
     "name": "stdout",
     "output_type": "stream",
     "text": [
      "predicted=            ds           yhat\n",
      "0 2014-01-01  400987.942870\n",
      "1 2014-02-01  399881.341945\n",
      "2 2014-03-01  434923.496803\n",
      "3 2014-04-01  431642.748930\n",
      "4 2014-05-01  448505.547465\n",
      "5 2014-06-01  443506.937641\n",
      "6 2014-07-01  443816.835877\n",
      "7 2014-08-01  451957.323009\n",
      "8 2014-09-01  431640.169333\n",
      "9 2014-10-01  440732.322195\n"
     ]
    },
    {
     "name": "stderr",
     "output_type": "stream",
     "text": [
      "INFO:fbprophet:Disabling weekly seasonality. Run prophet with weekly_seasonality=True to override this.\n",
      "INFO:fbprophet:Disabling daily seasonality. Run prophet with daily_seasonality=True to override this.\n"
     ]
    },
    {
     "name": "stdout",
     "output_type": "stream",
     "text": [
      "predicted=             ds           yhat\n",
      "0  2014-01-01  400455.027975\n",
      "1  2014-02-01  399375.665250\n",
      "2  2014-03-01  434336.237209\n",
      "3  2014-04-01  431066.716673\n",
      "4  2014-05-01  447961.724058\n",
      "5  2014-06-01  442929.380072\n",
      "6  2014-07-01  443186.128990\n",
      "7  2014-08-01  451330.708379\n",
      "8  2014-09-01  430988.068480\n",
      "9  2014-10-01  440060.171323\n",
      "10 2014-11-01  444677.182420\n"
     ]
    },
    {
     "name": "stderr",
     "output_type": "stream",
     "text": [
      "INFO:fbprophet:Disabling weekly seasonality. Run prophet with weekly_seasonality=True to override this.\n",
      "INFO:fbprophet:Disabling daily seasonality. Run prophet with daily_seasonality=True to override this.\n"
     ]
    },
    {
     "name": "stdout",
     "output_type": "stream",
     "text": [
      "predicted=             ds           yhat\n",
      "0  2014-01-01  400766.249155\n",
      "1  2014-02-01  399700.622449\n",
      "2  2014-03-01  434715.114306\n",
      "3  2014-04-01  431408.968377\n",
      "4  2014-05-01  448333.462465\n",
      "5  2014-06-01  443361.667151\n",
      "6  2014-07-01  443627.471894\n",
      "7  2014-08-01  451786.639242\n",
      "8  2014-09-01  431482.739106\n",
      "9  2014-10-01  440569.940802\n",
      "10 2014-11-01  445221.804500\n",
      "11 2014-12-01  495632.753949\n"
     ]
    },
    {
     "name": "stderr",
     "output_type": "stream",
     "text": [
      "INFO:fbprophet:Disabling weekly seasonality. Run prophet with weekly_seasonality=True to override this.\n",
      "INFO:fbprophet:Disabling daily seasonality. Run prophet with daily_seasonality=True to override this.\n"
     ]
    },
    {
     "name": "stdout",
     "output_type": "stream",
     "text": [
      "predicted=             ds           yhat\n",
      "0  2014-01-01  400280.122794\n",
      "1  2014-02-01  399164.577871\n",
      "2  2014-03-01  434179.870610\n",
      "3  2014-04-01  430796.828591\n",
      "4  2014-05-01  447604.924112\n",
      "5  2014-06-01  442676.052195\n",
      "6  2014-07-01  443030.496218\n",
      "7  2014-08-01  451106.016794\n",
      "8  2014-09-01  430752.458491\n",
      "9  2014-10-01  439801.872602\n",
      "10 2014-11-01  444364.384975\n",
      "11 2014-12-01  494642.481865\n",
      "12 2015-01-01  419197.803538\n"
     ]
    },
    {
     "name": "stderr",
     "output_type": "stream",
     "text": [
      "INFO:fbprophet:Disabling weekly seasonality. Run prophet with weekly_seasonality=True to override this.\n",
      "INFO:fbprophet:Disabling daily seasonality. Run prophet with daily_seasonality=True to override this.\n"
     ]
    },
    {
     "name": "stdout",
     "output_type": "stream",
     "text": [
      "predicted=             ds           yhat\n",
      "0  2014-01-01  400516.111058\n",
      "1  2014-02-01  399398.616561\n",
      "2  2014-03-01  434412.898986\n",
      "3  2014-04-01  431110.378040\n",
      "4  2014-05-01  447939.841092\n",
      "5  2014-06-01  442998.099194\n",
      "6  2014-07-01  443327.760398\n",
      "7  2014-08-01  451437.745202\n",
      "8  2014-09-01  431118.984348\n",
      "9  2014-10-01  440174.681733\n",
      "10 2014-11-01  444792.383223\n",
      "11 2014-12-01  495164.147838\n",
      "12 2015-01-01  419629.474487\n",
      "13 2015-02-01  421790.176445\n"
     ]
    },
    {
     "name": "stderr",
     "output_type": "stream",
     "text": [
      "INFO:fbprophet:Disabling weekly seasonality. Run prophet with weekly_seasonality=True to override this.\n",
      "INFO:fbprophet:Disabling daily seasonality. Run prophet with daily_seasonality=True to override this.\n"
     ]
    },
    {
     "name": "stdout",
     "output_type": "stream",
     "text": [
      "predicted=             ds           yhat\n",
      "0  2014-01-01  400677.150811\n",
      "1  2014-02-01  399622.159801\n",
      "2  2014-03-01  434634.352295\n",
      "3  2014-04-01  431382.878541\n",
      "4  2014-05-01  448289.662119\n",
      "5  2014-06-01  443266.565747\n",
      "6  2014-07-01  443604.186872\n",
      "7  2014-08-01  451791.704258\n",
      "8  2014-09-01  431456.554637\n",
      "9  2014-10-01  440584.057935\n",
      "10 2014-11-01  445245.186761\n",
      "11 2014-12-01  495653.025874\n",
      "12 2015-01-01  420210.656474\n",
      "13 2015-02-01  422378.486256\n",
      "14 2015-03-01  452853.718265\n"
     ]
    },
    {
     "name": "stderr",
     "output_type": "stream",
     "text": [
      "INFO:fbprophet:Disabling weekly seasonality. Run prophet with weekly_seasonality=True to override this.\n",
      "INFO:fbprophet:Disabling daily seasonality. Run prophet with daily_seasonality=True to override this.\n"
     ]
    },
    {
     "name": "stdout",
     "output_type": "stream",
     "text": [
      "predicted=             ds           yhat\n",
      "0  2014-01-01  400594.761517\n",
      "1  2014-02-01  399471.067671\n",
      "2  2014-03-01  434474.779306\n",
      "3  2014-04-01  431092.979870\n",
      "4  2014-05-01  447947.820908\n",
      "5  2014-06-01  442908.246021\n",
      "6  2014-07-01  443155.488584\n",
      "7  2014-08-01  451378.860850\n",
      "8  2014-09-01  431139.972192\n",
      "9  2014-10-01  440187.752555\n",
      "10 2014-11-01  444793.763951\n",
      "11 2014-12-01  495159.604800\n",
      "12 2015-01-01  419621.970143\n",
      "13 2015-02-01  421778.182550\n",
      "14 2015-03-01  452330.900379\n",
      "15 2015-04-01  450253.327970\n"
     ]
    },
    {
     "name": "stderr",
     "output_type": "stream",
     "text": [
      "INFO:fbprophet:Disabling weekly seasonality. Run prophet with weekly_seasonality=True to override this.\n",
      "INFO:fbprophet:Disabling daily seasonality. Run prophet with daily_seasonality=True to override this.\n"
     ]
    },
    {
     "name": "stdout",
     "output_type": "stream",
     "text": [
      "predicted=             ds           yhat\n",
      "0  2014-01-01  400481.628538\n",
      "1  2014-02-01  399340.692400\n",
      "2  2014-03-01  434326.097975\n",
      "3  2014-04-01  430949.616480\n",
      "4  2014-05-01  447772.202379\n",
      "5  2014-06-01  442735.091574\n",
      "6  2014-07-01  442969.737246\n",
      "7  2014-08-01  451161.326449\n",
      "8  2014-09-01  430889.286104\n",
      "9  2014-10-01  440009.759763\n",
      "10 2014-11-01  444596.956496\n",
      "11 2014-12-01  494960.854046\n",
      "12 2015-01-01  419455.529176\n",
      "13 2015-02-01  421610.558592\n",
      "14 2015-03-01  452039.522259\n",
      "15 2015-04-01  450014.448792\n",
      "16 2015-05-01  466907.572907\n"
     ]
    },
    {
     "name": "stderr",
     "output_type": "stream",
     "text": [
      "INFO:fbprophet:Disabling weekly seasonality. Run prophet with weekly_seasonality=True to override this.\n",
      "INFO:fbprophet:Disabling daily seasonality. Run prophet with daily_seasonality=True to override this.\n"
     ]
    },
    {
     "name": "stdout",
     "output_type": "stream",
     "text": [
      "predicted=             ds           yhat\n",
      "0  2014-01-01  400563.841018\n",
      "1  2014-02-01  399453.931173\n",
      "2  2014-03-01  434441.533815\n",
      "3  2014-04-01  431047.901204\n",
      "4  2014-05-01  447863.099821\n",
      "5  2014-06-01  442824.324640\n",
      "6  2014-07-01  443061.985471\n",
      "7  2014-08-01  451132.967508\n",
      "8  2014-09-01  430871.091785\n",
      "9  2014-10-01  439996.363767\n",
      "10 2014-11-01  444660.524139\n",
      "11 2014-12-01  495048.841867\n",
      "12 2015-01-01  419566.582582\n",
      "13 2015-02-01  421731.070102\n",
      "14 2015-03-01  452161.465559\n",
      "15 2015-04-01  450107.777887\n",
      "16 2015-05-01  467003.851556\n",
      "17 2015-06-01  463580.502492\n"
     ]
    },
    {
     "name": "stderr",
     "output_type": "stream",
     "text": [
      "INFO:fbprophet:Disabling weekly seasonality. Run prophet with weekly_seasonality=True to override this.\n",
      "INFO:fbprophet:Disabling daily seasonality. Run prophet with daily_seasonality=True to override this.\n"
     ]
    },
    {
     "name": "stdout",
     "output_type": "stream",
     "text": [
      "predicted=             ds           yhat\n",
      "0  2014-01-01  400525.152017\n",
      "1  2014-02-01  399422.160144\n",
      "2  2014-03-01  434424.481050\n",
      "3  2014-04-01  431055.054362\n",
      "4  2014-05-01  447887.510342\n",
      "5  2014-06-01  442862.337157\n",
      "6  2014-07-01  443136.249378\n",
      "7  2014-08-01  451222.331022\n",
      "8  2014-09-01  430950.073778\n",
      "9  2014-10-01  440072.891136\n",
      "10 2014-11-01  444741.346539\n",
      "11 2014-12-01  495144.393248\n",
      "12 2015-01-01  419682.943269\n",
      "13 2015-02-01  421867.729360\n",
      "14 2015-03-01  452275.227731\n",
      "15 2015-04-01  450261.904797\n",
      "16 2015-05-01  467176.217994\n",
      "17 2015-06-01  463761.987265\n",
      "18 2015-07-01  463369.018121\n"
     ]
    },
    {
     "name": "stderr",
     "output_type": "stream",
     "text": [
      "INFO:fbprophet:Disabling weekly seasonality. Run prophet with weekly_seasonality=True to override this.\n",
      "INFO:fbprophet:Disabling daily seasonality. Run prophet with daily_seasonality=True to override this.\n"
     ]
    },
    {
     "name": "stdout",
     "output_type": "stream",
     "text": [
      "predicted=             ds           yhat\n",
      "0  2014-01-01  400583.494279\n",
      "1  2014-02-01  399503.454857\n",
      "2  2014-03-01  434536.001332\n",
      "3  2014-04-01  431127.594325\n",
      "4  2014-05-01  447932.086866\n",
      "5  2014-06-01  442890.578672\n",
      "6  2014-07-01  443149.803993\n",
      "7  2014-08-01  451238.712902\n",
      "8  2014-09-01  430874.861319\n",
      "9  2014-10-01  440022.007314\n",
      "10 2014-11-01  444706.983603\n",
      "11 2014-12-01  495123.064818\n",
      "12 2015-01-01  419635.776622\n",
      "13 2015-02-01  421809.402413\n",
      "14 2015-03-01  452391.632847\n",
      "15 2015-04-01  450292.310604\n",
      "16 2015-05-01  467149.143797\n",
      "17 2015-06-01  463711.318149\n",
      "18 2015-07-01  463296.542959\n",
      "19 2015-08-01  471554.454173\n"
     ]
    },
    {
     "name": "stderr",
     "output_type": "stream",
     "text": [
      "INFO:fbprophet:Disabling weekly seasonality. Run prophet with weekly_seasonality=True to override this.\n",
      "INFO:fbprophet:Disabling daily seasonality. Run prophet with daily_seasonality=True to override this.\n"
     ]
    },
    {
     "name": "stdout",
     "output_type": "stream",
     "text": [
      "predicted=             ds           yhat\n",
      "0  2014-01-01  400556.556544\n",
      "1  2014-02-01  399468.383330\n",
      "2  2014-03-01  434506.015427\n",
      "3  2014-04-01  431174.842757\n",
      "4  2014-05-01  447985.122514\n",
      "5  2014-06-01  442949.660035\n",
      "6  2014-07-01  443211.437481\n",
      "7  2014-08-01  451306.737638\n",
      "8  2014-09-01  430956.164204\n",
      "9  2014-10-01  440001.866838\n",
      "10 2014-11-01  444690.259151\n",
      "11 2014-12-01  495118.271377\n",
      "12 2015-01-01  419671.264000\n",
      "13 2015-02-01  421857.436676\n",
      "14 2015-03-01  452382.140129\n",
      "15 2015-04-01  450377.555057\n",
      "16 2015-05-01  467246.211364\n",
      "17 2015-06-01  463821.982336\n",
      "18 2015-07-01  463413.011282\n",
      "19 2015-08-01  471685.154865\n",
      "20 2015-09-01  450690.085536\n"
     ]
    },
    {
     "name": "stderr",
     "output_type": "stream",
     "text": [
      "INFO:fbprophet:Disabling weekly seasonality. Run prophet with weekly_seasonality=True to override this.\n",
      "INFO:fbprophet:Disabling daily seasonality. Run prophet with daily_seasonality=True to override this.\n"
     ]
    },
    {
     "name": "stdout",
     "output_type": "stream",
     "text": [
      "predicted=             ds           yhat\n",
      "0  2014-01-01  400601.153596\n",
      "1  2014-02-01  399580.951888\n",
      "2  2014-03-01  434641.740053\n",
      "3  2014-04-01  431316.479010\n",
      "4  2014-05-01  448200.116522\n",
      "5  2014-06-01  443169.967401\n",
      "6  2014-07-01  443442.928399\n",
      "7  2014-08-01  451556.773013\n",
      "8  2014-09-01  431230.005466\n",
      "9  2014-10-01  440340.429273\n",
      "10 2014-11-01  444950.959577\n",
      "11 2014-12-01  495398.089646\n",
      "12 2015-01-01  419940.074475\n",
      "13 2015-02-01  422141.255979\n",
      "14 2015-03-01  452829.671905\n",
      "15 2015-04-01  450790.826108\n",
      "16 2015-05-01  467700.970133\n",
      "17 2015-06-01  464263.474162\n",
      "18 2015-07-01  463863.392502\n",
      "19 2015-08-01  472166.559724\n",
      "20 2015-09-01  451211.297893\n",
      "21 2015-10-01  459083.315135\n"
     ]
    },
    {
     "name": "stderr",
     "output_type": "stream",
     "text": [
      "INFO:fbprophet:Disabling weekly seasonality. Run prophet with weekly_seasonality=True to override this.\n",
      "INFO:fbprophet:Disabling daily seasonality. Run prophet with daily_seasonality=True to override this.\n"
     ]
    },
    {
     "name": "stdout",
     "output_type": "stream",
     "text": [
      "predicted=             ds           yhat\n",
      "0  2014-01-01  400543.361481\n",
      "1  2014-02-01  399499.101958\n",
      "2  2014-03-01  434553.569130\n",
      "3  2014-04-01  431238.543480\n",
      "4  2014-05-01  448124.586620\n",
      "5  2014-06-01  443135.899535\n",
      "6  2014-07-01  443402.892776\n",
      "7  2014-08-01  451514.775891\n",
      "8  2014-09-01  431183.377977\n",
      "9  2014-10-01  440295.700993\n",
      "10 2014-11-01  444912.188679\n",
      "11 2014-12-01  495269.427598\n",
      "12 2015-01-01  419794.004480\n",
      "13 2015-02-01  421992.098699\n",
      "14 2015-03-01  452659.144977\n",
      "15 2015-04-01  450650.162297\n",
      "16 2015-05-01  467574.574028\n",
      "17 2015-06-01  464150.722493\n",
      "18 2015-07-01  463741.803244\n",
      "19 2015-08-01  472046.269317\n",
      "20 2015-09-01  451086.636907\n",
      "21 2015-10-01  458970.977284\n",
      "22 2015-11-01  464682.714365\n"
     ]
    },
    {
     "name": "stderr",
     "output_type": "stream",
     "text": [
      "INFO:fbprophet:Disabling weekly seasonality. Run prophet with weekly_seasonality=True to override this.\n",
      "INFO:fbprophet:Disabling daily seasonality. Run prophet with daily_seasonality=True to override this.\n"
     ]
    },
    {
     "name": "stdout",
     "output_type": "stream",
     "text": [
      "predicted=             ds           yhat\n",
      "0  2014-01-01  400478.591481\n",
      "1  2014-02-01  399415.582346\n",
      "2  2014-03-01  434460.021247\n",
      "3  2014-04-01  431157.977897\n",
      "4  2014-05-01  448048.178993\n",
      "5  2014-06-01  443054.573330\n",
      "6  2014-07-01  443324.189352\n",
      "7  2014-08-01  451429.881444\n",
      "8  2014-09-01  431091.645137\n",
      "9  2014-10-01  440197.802691\n",
      "10 2014-11-01  444811.142314\n",
      "11 2014-12-01  495161.711981\n",
      "12 2015-01-01  419726.978095\n",
      "13 2015-02-01  421931.270654\n",
      "14 2015-03-01  452429.155867\n",
      "15 2015-04-01  450488.093187\n",
      "16 2015-05-01  467451.221024\n",
      "17 2015-06-01  464036.562315\n",
      "18 2015-07-01  463631.299313\n",
      "19 2015-08-01  471916.185870\n",
      "20 2015-09-01  450933.318516\n",
      "21 2015-10-01  458801.314443\n",
      "22 2015-11-01  464502.111477\n",
      "23 2015-12-01  515965.197131\n"
     ]
    },
    {
     "name": "stderr",
     "output_type": "stream",
     "text": [
      "INFO:fbprophet:Disabling weekly seasonality. Run prophet with weekly_seasonality=True to override this.\n",
      "INFO:fbprophet:Disabling daily seasonality. Run prophet with daily_seasonality=True to override this.\n"
     ]
    },
    {
     "name": "stdout",
     "output_type": "stream",
     "text": [
      "predicted=             ds           yhat\n",
      "0  2014-01-01  400433.644214\n",
      "1  2014-02-01  399379.748749\n",
      "2  2014-03-01  434416.667069\n",
      "3  2014-04-01  431141.994185\n",
      "4  2014-05-01  448032.698955\n",
      "5  2014-06-01  443080.925300\n",
      "6  2014-07-01  443405.521079\n",
      "7  2014-08-01  451501.287622\n",
      "8  2014-09-01  431157.539355\n",
      "9  2014-10-01  440261.143645\n",
      "10 2014-11-01  444855.157977\n",
      "11 2014-12-01  495184.731575\n",
      "12 2015-01-01  419708.201909\n",
      "13 2015-02-01  421882.873414\n",
      "14 2015-03-01  452456.587087\n",
      "15 2015-04-01  450507.823607\n",
      "16 2015-05-01  467453.059293\n",
      "17 2015-06-01  464098.585922\n",
      "18 2015-07-01  463723.462078\n",
      "19 2015-08-01  472005.313868\n",
      "20 2015-09-01  451031.506181\n",
      "21 2015-10-01  458915.461663\n",
      "22 2015-11-01  464582.230595\n",
      "23 2015-12-01  516006.994630\n",
      "24 2016-01-01  439017.337395\n"
     ]
    },
    {
     "name": "stderr",
     "output_type": "stream",
     "text": [
      "INFO:fbprophet:Disabling weekly seasonality. Run prophet with weekly_seasonality=True to override this.\n",
      "INFO:fbprophet:Disabling daily seasonality. Run prophet with daily_seasonality=True to override this.\n"
     ]
    },
    {
     "name": "stdout",
     "output_type": "stream",
     "text": [
      "predicted=             ds           yhat\n",
      "0  2014-01-01  400526.734978\n",
      "1  2014-02-01  399414.147047\n",
      "2  2014-03-01  434434.296863\n",
      "3  2014-04-01  431037.431715\n",
      "4  2014-05-01  447944.848813\n",
      "5  2014-06-01  443002.779040\n",
      "6  2014-07-01  443321.597733\n",
      "7  2014-08-01  451492.171874\n",
      "8  2014-09-01  431128.040753\n",
      "9  2014-10-01  440205.122890\n",
      "10 2014-11-01  444780.573404\n",
      "11 2014-12-01  495088.893753\n",
      "12 2015-01-01  419537.443018\n",
      "13 2015-02-01  421660.753255\n",
      "14 2015-03-01  452321.301097\n",
      "15 2015-04-01  450170.827735\n",
      "16 2015-05-01  467140.911099\n",
      "17 2015-06-01  463812.400000\n",
      "18 2015-07-01  463428.646205\n",
      "19 2015-08-01  471757.156013\n",
      "20 2015-09-01  450781.679144\n",
      "21 2015-10-01  458642.522504\n",
      "22 2015-11-01  464313.393751\n",
      "23 2015-12-01  515727.576787\n",
      "24 2016-01-01  438581.799776\n",
      "25 2016-02-01  443902.844003\n"
     ]
    },
    {
     "name": "stderr",
     "output_type": "stream",
     "text": [
      "INFO:fbprophet:Disabling weekly seasonality. Run prophet with weekly_seasonality=True to override this.\n",
      "INFO:fbprophet:Disabling daily seasonality. Run prophet with daily_seasonality=True to override this.\n"
     ]
    },
    {
     "name": "stdout",
     "output_type": "stream",
     "text": [
      "predicted=             ds           yhat\n",
      "0  2014-01-01  400524.330239\n",
      "1  2014-02-01  399372.723374\n",
      "2  2014-03-01  434378.620116\n",
      "3  2014-04-01  431001.466863\n",
      "4  2014-05-01  447818.228401\n",
      "5  2014-06-01  442886.803324\n",
      "6  2014-07-01  443242.534788\n",
      "7  2014-08-01  451385.282199\n",
      "8  2014-09-01  431110.027940\n",
      "9  2014-10-01  440183.947607\n",
      "10 2014-11-01  444765.260932\n",
      "11 2014-12-01  495094.019449\n",
      "12 2015-01-01  419571.732072\n",
      "13 2015-02-01  421673.909710\n",
      "14 2015-03-01  452153.193364\n",
      "15 2015-04-01  450103.681429\n",
      "16 2015-05-01  466963.031137\n",
      "17 2015-06-01  463682.377476\n",
      "18 2015-07-01  463375.770456\n",
      "19 2015-08-01  471661.735150\n",
      "20 2015-09-01  450716.062140\n",
      "21 2015-10-01  458560.271390\n",
      "22 2015-11-01  464239.656525\n",
      "23 2015-12-01  515699.974343\n",
      "24 2016-01-01  438653.937152\n",
      "25 2016-02-01  443968.763340\n",
      "26 2016-03-01  477673.329738\n"
     ]
    },
    {
     "name": "stderr",
     "output_type": "stream",
     "text": [
      "INFO:fbprophet:Disabling weekly seasonality. Run prophet with weekly_seasonality=True to override this.\n",
      "INFO:fbprophet:Disabling daily seasonality. Run prophet with daily_seasonality=True to override this.\n"
     ]
    },
    {
     "name": "stdout",
     "output_type": "stream",
     "text": [
      "predicted=             ds           yhat\n",
      "0  2014-01-01  400548.860457\n",
      "1  2014-02-01  399381.723793\n",
      "2  2014-03-01  434371.196814\n",
      "3  2014-04-01  431025.173678\n",
      "4  2014-05-01  447856.059059\n",
      "5  2014-06-01  442821.506548\n",
      "6  2014-07-01  443171.520089\n",
      "7  2014-08-01  451348.454068\n",
      "8  2014-09-01  431043.025673\n",
      "9  2014-10-01  440206.912950\n",
      "10 2014-11-01  444794.689339\n",
      "11 2014-12-01  495138.628228\n",
      "12 2015-01-01  419636.038295\n",
      "13 2015-02-01  421761.908111\n",
      "14 2015-03-01  452105.121576\n",
      "15 2015-04-01  450148.388563\n",
      "16 2015-05-01  467058.441527\n",
      "17 2015-06-01  463615.528646\n",
      "18 2015-07-01  463322.204142\n",
      "19 2015-08-01  471675.120383\n",
      "20 2015-09-01  450689.355935\n",
      "21 2015-10-01  458581.476607\n",
      "22 2015-11-01  464270.948093\n",
      "23 2015-12-01  515763.883401\n",
      "24 2016-01-01  438758.773546\n",
      "25 2016-02-01  444134.854335\n",
      "26 2016-03-01  477838.275548\n",
      "27 2016-04-01  471906.002148\n"
     ]
    },
    {
     "name": "stderr",
     "output_type": "stream",
     "text": [
      "INFO:fbprophet:Disabling weekly seasonality. Run prophet with weekly_seasonality=True to override this.\n",
      "INFO:fbprophet:Disabling daily seasonality. Run prophet with daily_seasonality=True to override this.\n"
     ]
    },
    {
     "name": "stdout",
     "output_type": "stream",
     "text": [
      "predicted=             ds           yhat\n",
      "0  2014-01-01  400526.331576\n",
      "1  2014-02-01  399365.698050\n",
      "2  2014-03-01  434358.263069\n",
      "3  2014-04-01  430999.460254\n",
      "4  2014-05-01  447826.706687\n",
      "5  2014-06-01  442792.651768\n",
      "6  2014-07-01  443141.425406\n",
      "7  2014-08-01  451318.468559\n",
      "8  2014-09-01  431012.803897\n",
      "9  2014-10-01  440178.463810\n",
      "10 2014-11-01  444767.726859\n",
      "11 2014-12-01  495109.785083\n",
      "12 2015-01-01  419594.452775\n",
      "13 2015-02-01  421718.508566\n",
      "14 2015-03-01  452107.168827\n",
      "15 2015-04-01  450115.042041\n",
      "16 2015-05-01  467016.421697\n",
      "17 2015-06-01  463574.672699\n",
      "18 2015-07-01  463279.865497\n",
      "19 2015-08-01  471635.018561\n",
      "20 2015-09-01  450650.750926\n",
      "21 2015-10-01  458547.995902\n",
      "22 2015-11-01  464240.932731\n",
      "23 2015-12-01  515729.106621\n",
      "24 2016-01-01  438697.890125\n",
      "25 2016-02-01  444064.490051\n",
      "26 2016-03-01  477760.451331\n",
      "27 2016-04-01  471858.976681\n",
      "28 2016-05-01  488579.330701\n"
     ]
    }
   ],
   "source": [
    "m = Prophet()\n",
    "m.fit(history_train)\n",
    "for t in range(1, len(test)+1):\n",
    "    future = test[['ds']].head(t)\n",
    "    forecast = m.predict(future)\n",
    "    df_fcast = forecast[['ds', 'yhat']]\n",
    "    df_fcast = df_fcast.rename(columns={'yhat': 'y'})\n",
    "    frm = [history_train, df_fcast.tail(1)]\n",
    "    history_train = pd.concat(frm)\n",
    "    m = Prophet()\n",
    "    m.fit(history_train)\n",
    "    print('predicted= ', forecast[['ds', 'yhat']])"
   ]
  },
  {
   "cell_type": "code",
   "execution_count": 21,
   "metadata": {},
   "outputs": [
    {
     "data": {
      "image/png": "[encoded data removed]",
      "text/plain": [
       "<Figure size 720x432 with 1 Axes>"
      ]
     },
     "metadata": {},
     "output_type": "display_data"
    }
   ],
   "source": [
    "fig1 = m.plot(forecast)"
   ]
  },
  {
   "cell_type": "code",
   "execution_count": 22,
   "metadata": {},
   "outputs": [
    {
     "data": {
      "image/png": "[encoded data removed]",
      "text/plain": [
       "<Figure size 648x432 with 2 Axes>"
      ]
     },
     "metadata": {},
     "output_type": "display_data"
    }
   ],
   "source": [
    "m.plot_components(forecast);"
   ]
  }
 ],
 "metadata": {
  "kernelspec": {
   "display_name": "Python 3",
   "language": "python",
   "name": "python3"
  },
  "language_info": {
   "codemirror_mode": {
    "name": "ipython",
    "version": 3
   },
   "file_extension": ".py",
   "mimetype": "text/x-python",
   "name": "python",
   "nbconvert_exporter": "python",
   "pygments_lexer": "ipython3",
   "version": "3.7.3"
  }
 },
 "nbformat": 4,
 "nbformat_minor": 4
}
